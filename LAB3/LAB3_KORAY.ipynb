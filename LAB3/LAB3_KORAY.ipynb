{
 "cells": [
  {
   "cell_type": "code",
   "execution_count": 25,
   "metadata": {},
   "outputs": [],
   "source": [
    "#Syntax to download data through terminal: rsync -aP kkulbay@student-shell.sys.kth.se:/afs/kth.se/misc/csc/dept/tmh/corpora/tidigits/disc_4.2.1/tidigits/test/ ~/Desktop/KTH/DT2119_Speech_and_Speaker_Recognition/dt2119/DT2119_Speech/LAB3/tidigits/test\n",
    "\n",
    "import numpy as np\n",
    "import lab3_toolsSPYDER as tools\n",
    "import lab3_proto as proto\n",
    "import lab1_proto as proto1\n",
    "#import lab1_implementation as proto1\n",
    "import lab1_tools as tools1\n",
    "import lab2_proto as proto2\n",
    "import lab2_tools as tools2\n",
    "import matplotlib.pyplot as plt"
   ]
  },
  {
   "cell_type": "markdown",
   "metadata": {},
   "source": [
    "# 4.1 Target Class Definition"
   ]
  },
  {
   "cell_type": "code",
   "execution_count": 26,
   "metadata": {},
   "outputs": [],
   "source": [
    "phoneHMMs = np.load('lab2_models_all.npz',allow_pickle=True)['phoneHMMs'].item()\n",
    "phones = sorted(phoneHMMs.keys())\n",
    "nstates = {phone: phoneHMMs[phone]['means'].shape[0] for phone in phones}\n",
    "# stateList = [ph + '_' + str(id) for ph in phones for id in range(nstates[ph])]\n",
    "\n",
    "# np.save(\"stateList.npy\",stateList)\n",
    "\n",
    "#loading genereated list from above \n",
    "stateList = np.load(\"stateList.npy\", allow_pickle=True).tolist()\n",
    "# print(stateList)\n",
    "# print(phoneHMMs.keys())"
   ]
  },
  {
   "cell_type": "markdown",
   "metadata": {},
   "source": [
    "# 4.2 Forced Alignment"
   ]
  },
  {
   "cell_type": "code",
   "execution_count": 27,
   "metadata": {},
   "outputs": [],
   "source": [
    "\n",
    "#lmfccEXAMPLE = np.load(\"lmfccEXAMPLE.npy\", allow_pickle=True)\n",
    "\n",
    "filename = 'tidigits/train/man/nw/z43a.wav'\n",
    "samples, samplingrate = tools.loadAudio(filename)\n",
    "\n",
    "lmfccEXAMPLE = proto1.mfcc(samples,samplingrate=samplingrate)\n",
    "\n",
    "\n",
    "# plt.pcolormesh(lmfccEXAMPLE)\n",
    "# plt.title(\"MFCCs test\")\n",
    "# plt.show()\n",
    "\n",
    "wordTrans = list(tools.path2info(filename)[2])\n",
    "assert wordTrans == ['z', '4', '3']\n",
    "#-------\n",
    "prondict = {} \n",
    "prondict['o'] = ['ow']\n",
    "prondict['z'] = ['z', 'iy', 'r', 'ow']\n",
    "prondict['1'] = ['w', 'ah', 'n']\n",
    "prondict['2'] = ['t', 'uw']\n",
    "prondict['3'] = ['th', 'r', 'iy']\n",
    "prondict['4'] = ['f', 'ao', 'r']\n",
    "prondict['5'] = ['f', 'ay', 'v']\n",
    "prondict['6'] = ['s', 'ih', 'k', 's']\n",
    "prondict['7'] = ['s', 'eh', 'v', 'ah', 'n']\n",
    "prondict['8'] = ['ey', 't']\n",
    "prondict['9'] = ['n', 'ay', 'n']\n",
    "\n",
    "phoneTrans = proto.words2phones(wordTrans, prondict)\n",
    "assert phoneTrans == ['sil', 'z', 'iy', 'r', 'ow', 'sp', 'f', 'ao', 'r', 'sp', 'th', 'r', 'iy', 'sp', 'sil']\n",
    "#---------\n",
    "utteranceHMM = proto2.concatHMMs(phoneHMMs, phoneTrans)\n",
    "stateTrans = [phone + '_' + str(stateid) for phone in phoneTrans\n",
    "                  for stateid in range(nstates[phone])]\n",
    "# print(stateTrans)\n",
    "# print(stateList)\n",
    "# print(utteranceHMM.keys())\n",
    "# utteranceHMM[\"name\"]\n",
    "\n",
    "#-----\n",
    "lab3example = np.load(\"lab3_example.npz\", allow_pickle=True)\n",
    "\n",
    "#print(utteranceHMM)\n",
    "#print(lab3example[\"example\"])#.f.filename)\n"
   ]
  },
  {
   "cell_type": "code",
   "execution_count": 28,
   "metadata": {},
   "outputs": [
    {
     "name": "stderr",
     "output_type": "stream",
     "text": [
      "/var/folders/q9/fn0bq0g17g1_dkmkvbvcxll00000gn/T/ipykernel_28268/3749334359.py:2: RuntimeWarning: divide by zero encountered in log\n",
      "  vloglik, vpath = proto2.viterbi(obsloglik,np.log(utteranceHMM[\"startprob\"]),np.log(utteranceHMM[\"transmat\"][:-1,:-1]))\n"
     ]
    },
    {
     "data": {
      "text/plain": [
       "'0 0.01 sil_0\\n0.01 0.19000000000000003 sil_1\\n0.19000000000000003 0.20000000000000004 sil_2\\n0.20000000000000004 0.24000000000000007 z_0\\n0.24000000000000007 0.25000000000000006 z_1\\n0.25000000000000006 0.36000000000000015 z_2\\n0.36000000000000015 0.4400000000000002 iy_0\\n0.4400000000000002 0.45000000000000023 iy_1\\n0.45000000000000023 0.46000000000000024 iy_2\\n0.46000000000000024 0.5600000000000003 r_0\\n0.5600000000000003 0.5700000000000003 r_1\\n0.5700000000000003 0.5800000000000003 r_2\\n0.5800000000000003 0.5900000000000003 ow_0\\n0.5900000000000003 0.6000000000000003 ow_1\\n0.6000000000000003 0.6900000000000004 ow_2\\n0.6900000000000004 0.7000000000000004 f_0\\n0.7000000000000004 0.8100000000000005 f_1\\n0.8100000000000005 0.8200000000000005 f_2\\n0.8200000000000005 0.8300000000000005 ao_0\\n0.8300000000000005 0.9700000000000006 ao_1\\n0.9700000000000006 1.0800000000000007 ao_2\\n1.0800000000000007 1.1100000000000008 r_0\\n1.1100000000000008 1.1200000000000008 r_1\\n1.1200000000000008 1.1300000000000008 r_2\\n1.1300000000000008 1.2300000000000009 th_0\\n1.2300000000000009 1.260000000000001 th_1\\n1.260000000000001 1.270000000000001 th_2\\n1.270000000000001 1.360000000000001 r_0\\n1.360000000000001 1.370000000000001 r_1\\n1.370000000000001 1.380000000000001 r_2\\n1.380000000000001 1.480000000000001 iy_0\\n1.480000000000001 1.500000000000001 iy_1\\n1.500000000000001 1.5800000000000012 iy_2\\n1.5800000000000012 1.7600000000000013 sil_0\\n1.7600000000000013 1.7700000000000014 sil_1\\n1.7700000000000014 1.7800000000000014 sil_2\\n'"
      ]
     },
     "execution_count": 28,
     "metadata": {},
     "output_type": "execute_result"
    }
   ],
   "source": [
    "obsloglik = tools2.log_multivariate_normal_density_diag(lmfccEXAMPLE,utteranceHMM[\"means\"],utteranceHMM[\"covars\"])\n",
    "vloglik, vpath = proto2.viterbi(obsloglik,np.log(utteranceHMM[\"startprob\"]),np.log(utteranceHMM[\"transmat\"][:-1,:-1]))\n",
    "\n",
    "# print(vpath)\n",
    "# print(len(vpath),len(stateTrans))\n",
    "viterbiStateTrans = []\n",
    "for i,stateID in enumerate(vpath):\n",
    "    viterbiStateTrans.append(stateTrans[stateID])\n",
    "\n",
    "CTRLviterbiStateTrans = ['sil_0', 'sil_1', 'sil_1', 'sil_1', 'sil_1', 'sil_1', 'sil_1', 'sil_1', 'sil_1', 'sil_1', 'sil_1', 'sil_1', 'sil_1', 'sil_1', 'sil_1', 'sil_1', 'sil_1', 'sil_1', 'sil_1', 'sil_2', 'z_0', 'z_0', 'z_0', 'z_0', 'z_1', 'z_2', 'z_2', 'z_2', 'z_2', 'z_2', 'z_2', 'z_2', 'z_2', 'z_2', 'z_2', 'z_2', 'iy_0', 'iy_0', 'iy_0', 'iy_0', 'iy_0', 'iy_0', 'iy_0', 'iy_0', 'iy_1', 'iy_2', 'r_0', 'r_0', 'r_0', 'r_0', 'r_0', 'r_0', 'r_0', 'r_0', 'r_0', 'r_0', 'r_1', 'r_2', 'ow_0', 'ow_1', 'ow_2', 'ow_2', 'ow_2', 'ow_2', 'ow_2', 'ow_2', 'ow_2', 'ow_2', 'ow_2', 'f_0', 'f_1', 'f_1', 'f_1', 'f_1', 'f_1', 'f_1', 'f_1', 'f_1', 'f_1', 'f_1', 'f_1', 'f_2', 'ao_0', 'ao_1', 'ao_1', 'ao_1', 'ao_1', 'ao_1', 'ao_1', 'ao_1', 'ao_1', 'ao_1', 'ao_1', 'ao_1', 'ao_1', 'ao_1', 'ao_1', 'ao_2', 'ao_2', 'ao_2', 'ao_2', 'ao_2', 'ao_2', 'ao_2', 'ao_2', 'ao_2', 'ao_2', 'ao_2', 'r_0', 'r_0', 'r_0', 'r_1', 'r_2', 'th_0', 'th_0', 'th_0', 'th_0', 'th_0', 'th_0', 'th_0', 'th_0', 'th_0', 'th_0', 'th_1', 'th_1', 'th_1', 'th_2', 'r_0', 'r_0', 'r_0', 'r_0', 'r_0', 'r_0', 'r_0', 'r_0', 'r_0', 'r_1', 'r_2', 'iy_0', 'iy_0', 'iy_0', 'iy_0', 'iy_0', 'iy_0', 'iy_0', 'iy_0', 'iy_0', 'iy_0', 'iy_1', 'iy_1', 'iy_2', 'iy_2', 'iy_2', 'iy_2', 'iy_2', 'iy_2', 'iy_2', 'iy_2', 'sil_0', 'sil_0', 'sil_0', 'sil_0', 'sil_0', 'sil_0', 'sil_0', 'sil_0', 'sil_0', 'sil_0', 'sil_0', 'sil_0', 'sil_0', 'sil_0', 'sil_0', 'sil_0', 'sil_0', 'sil_0', 'sil_1', 'sil_2']\n",
    "\n",
    "assert CTRLviterbiStateTrans == viterbiStateTrans\n",
    "tools.frames2trans(viterbiStateTrans, outfilename='z43a.lab')"
   ]
  },
  {
   "cell_type": "markdown",
   "metadata": {},
   "source": [
    "# 4.3 Feature Extraction"
   ]
  },
  {
   "cell_type": "code",
   "execution_count": null,
   "metadata": {},
   "outputs": [],
   "source": []
  }
 ],
 "metadata": {
  "interpreter": {
   "hash": "fec642dd07d6379f9b6a5394665ddfa18c171d75eab9dccee14f3e20cb5996de"
  },
  "kernelspec": {
   "display_name": "Python 3.9.12",
   "language": "python",
   "name": "python3"
  },
  "language_info": {
   "codemirror_mode": {
    "name": "ipython",
    "version": 3
   },
   "file_extension": ".py",
   "mimetype": "text/x-python",
   "name": "python",
   "nbconvert_exporter": "python",
   "pygments_lexer": "ipython3",
   "version": "3.9.12"
  },
  "orig_nbformat": 4
 },
 "nbformat": 4,
 "nbformat_minor": 2
}
