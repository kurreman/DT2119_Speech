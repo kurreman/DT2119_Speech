{
 "cells": [
  {
   "cell_type": "code",
   "execution_count": 3,
   "metadata": {},
   "outputs": [
    {
     "ename": "OSError",
     "evalue": "cannot load library '/Users/kurreman/.pyenv/versions/3.10.3/lib/python3.10/site-packages/_soundfile_data/libsndfile.dylib': dlopen(/Users/kurreman/.pyenv/versions/3.10.3/lib/python3.10/site-packages/_soundfile_data/libsndfile.dylib, 0x0002): tried: '/Users/kurreman/.pyenv/versions/3.10.3/lib/python3.10/site-packages/_soundfile_data/libsndfile.dylib' (no such file)",
     "output_type": "error",
     "traceback": [
      "\u001b[0;31m---------------------------------------------------------------------------\u001b[0m",
      "\u001b[0;31mOSError\u001b[0m                                   Traceback (most recent call last)",
      "File \u001b[0;32m~/.pyenv/versions/3.10.3/lib/python3.10/site-packages/soundfile.py:142\u001b[0m, in \u001b[0;36m<module>\u001b[0;34m\u001b[0m\n\u001b[1;32m    <a href='file:///Users/kurreman/.pyenv/versions/3.10.3/lib/python3.10/site-packages/soundfile.py?line=140'>141</a>\u001b[0m \u001b[39mif\u001b[39;00m _libname \u001b[39mis\u001b[39;00m \u001b[39mNone\u001b[39;00m:\n\u001b[0;32m--> <a href='file:///Users/kurreman/.pyenv/versions/3.10.3/lib/python3.10/site-packages/soundfile.py?line=141'>142</a>\u001b[0m     \u001b[39mraise\u001b[39;00m \u001b[39mOSError\u001b[39;00m(\u001b[39m'\u001b[39m\u001b[39msndfile library not found\u001b[39m\u001b[39m'\u001b[39m)\n\u001b[1;32m    <a href='file:///Users/kurreman/.pyenv/versions/3.10.3/lib/python3.10/site-packages/soundfile.py?line=142'>143</a>\u001b[0m _snd \u001b[39m=\u001b[39m _ffi\u001b[39m.\u001b[39mdlopen(_libname)\n",
      "\u001b[0;31mOSError\u001b[0m: sndfile library not found",
      "\nDuring handling of the above exception, another exception occurred:\n",
      "\u001b[0;31mOSError\u001b[0m                                   Traceback (most recent call last)",
      "\u001b[1;32m/Users/kurreman/Desktop/KTH/DT2119_Speech_and_Speaker_Recognition/dt2119/DT2119_Speech/LAB3/LAB3_KORAY.ipynb Cell 1'\u001b[0m in \u001b[0;36m<cell line: 4>\u001b[0;34m()\u001b[0m\n\u001b[1;32m      <a href='vscode-notebook-cell:/Users/kurreman/Desktop/KTH/DT2119_Speech_and_Speaker_Recognition/dt2119/DT2119_Speech/LAB3/LAB3_KORAY.ipynb#ch0000000?line=0'>1</a>\u001b[0m \u001b[39m#Syntax to download data through terminal: rsync -aP kkulbay@student-shell.sys.kth.se:/afs/kth.se/misc/csc/dept/tmh/corpora/tidigits/disc_4.2.1/tidigits/test/ ~/Desktop/KTH/DT2119_Speech_and_Speaker_Recognition/dt2119/DT2119_Speech/LAB3/tidigits/test\u001b[39;00m\n\u001b[1;32m      <a href='vscode-notebook-cell:/Users/kurreman/Desktop/KTH/DT2119_Speech_and_Speaker_Recognition/dt2119/DT2119_Speech/LAB3/LAB3_KORAY.ipynb#ch0000000?line=2'>3</a>\u001b[0m \u001b[39mimport\u001b[39;00m \u001b[39mnumpy\u001b[39;00m \u001b[39mas\u001b[39;00m \u001b[39mnp\u001b[39;00m\n\u001b[0;32m----> <a href='vscode-notebook-cell:/Users/kurreman/Desktop/KTH/DT2119_Speech_and_Speaker_Recognition/dt2119/DT2119_Speech/LAB3/LAB3_KORAY.ipynb#ch0000000?line=3'>4</a>\u001b[0m \u001b[39mimport\u001b[39;00m \u001b[39mlab3_tools\u001b[39;00m \u001b[39mas\u001b[39;00m \u001b[39mtools\u001b[39;00m\n\u001b[1;32m      <a href='vscode-notebook-cell:/Users/kurreman/Desktop/KTH/DT2119_Speech_and_Speaker_Recognition/dt2119/DT2119_Speech/LAB3/LAB3_KORAY.ipynb#ch0000000?line=4'>5</a>\u001b[0m \u001b[39mimport\u001b[39;00m \u001b[39mlab1_proto\u001b[39;00m \u001b[39mas\u001b[39;00m \u001b[39mproto1\u001b[39;00m\n\u001b[1;32m      <a href='vscode-notebook-cell:/Users/kurreman/Desktop/KTH/DT2119_Speech_and_Speaker_Recognition/dt2119/DT2119_Speech/LAB3/LAB3_KORAY.ipynb#ch0000000?line=5'>6</a>\u001b[0m \u001b[39mimport\u001b[39;00m \u001b[39mlab1_tools\u001b[39;00m \u001b[39mas\u001b[39;00m \u001b[39mtools1\u001b[39;00m\n",
      "File \u001b[0;32m~/Desktop/KTH/DT2119_Speech_and_Speaker_Recognition/dt2119/DT2119_Speech/LAB3/lab3_tools.py:4\u001b[0m, in \u001b[0;36m<module>\u001b[0;34m\u001b[0m\n\u001b[1;32m      <a href='file:///Users/kurreman/Desktop/KTH/DT2119_Speech_and_Speaker_Recognition/dt2119/DT2119_Speech/LAB3/lab3_tools.py?line=1'>2</a>\u001b[0m \u001b[39mimport\u001b[39;00m \u001b[39mos\u001b[39;00m\n\u001b[1;32m      <a href='file:///Users/kurreman/Desktop/KTH/DT2119_Speech_and_Speaker_Recognition/dt2119/DT2119_Speech/LAB3/lab3_tools.py?line=2'>3</a>\u001b[0m \u001b[39m#from pysndfile import sndio\u001b[39;00m\n\u001b[0;32m----> <a href='file:///Users/kurreman/Desktop/KTH/DT2119_Speech_and_Speaker_Recognition/dt2119/DT2119_Speech/LAB3/lab3_tools.py?line=3'>4</a>\u001b[0m \u001b[39mimport\u001b[39;00m \u001b[39msoundfile\u001b[39;00m \u001b[39mas\u001b[39;00m \u001b[39msf\u001b[39;00m\n\u001b[1;32m      <a href='file:///Users/kurreman/Desktop/KTH/DT2119_Speech_and_Speaker_Recognition/dt2119/DT2119_Speech/LAB3/lab3_tools.py?line=5'>6</a>\u001b[0m \u001b[39mdef\u001b[39;00m \u001b[39mpath2info\u001b[39m(path):\n\u001b[1;32m      <a href='file:///Users/kurreman/Desktop/KTH/DT2119_Speech_and_Speaker_Recognition/dt2119/DT2119_Speech/LAB3/lab3_tools.py?line=6'>7</a>\u001b[0m     \u001b[39m\"\"\"\u001b[39;00m\n\u001b[1;32m      <a href='file:///Users/kurreman/Desktop/KTH/DT2119_Speech_and_Speaker_Recognition/dt2119/DT2119_Speech/LAB3/lab3_tools.py?line=7'>8</a>\u001b[0m \u001b[39m    path2info: parses paths in the TIDIGIT format and extracts information\u001b[39;00m\n\u001b[1;32m      <a href='file:///Users/kurreman/Desktop/KTH/DT2119_Speech_and_Speaker_Recognition/dt2119/DT2119_Speech/LAB3/lab3_tools.py?line=8'>9</a>\u001b[0m \u001b[39m               about the speaker and the utterance\u001b[39;00m\n\u001b[0;32m   (...)\u001b[0m\n\u001b[1;32m     <a href='file:///Users/kurreman/Desktop/KTH/DT2119_Speech_and_Speaker_Recognition/dt2119/DT2119_Speech/LAB3/lab3_tools.py?line=11'>12</a>\u001b[0m \u001b[39m    path2info('tidigits/disc_4.1.1/tidigits/train/man/ae/z9z6531a.wav')\u001b[39;00m\n\u001b[1;32m     <a href='file:///Users/kurreman/Desktop/KTH/DT2119_Speech_and_Speaker_Recognition/dt2119/DT2119_Speech/LAB3/lab3_tools.py?line=12'>13</a>\u001b[0m \u001b[39m    \"\"\"\u001b[39;00m\n",
      "File \u001b[0;32m~/.pyenv/versions/3.10.3/lib/python3.10/site-packages/soundfile.py:162\u001b[0m, in \u001b[0;36m<module>\u001b[0;34m\u001b[0m\n\u001b[1;32m    <a href='file:///Users/kurreman/.pyenv/versions/3.10.3/lib/python3.10/site-packages/soundfile.py?line=158'>159</a>\u001b[0m     \u001b[39mwhile\u001b[39;00m \u001b[39mnot\u001b[39;00m _os\u001b[39m.\u001b[39mpath\u001b[39m.\u001b[39misdir(_path):\n\u001b[1;32m    <a href='file:///Users/kurreman/.pyenv/versions/3.10.3/lib/python3.10/site-packages/soundfile.py?line=159'>160</a>\u001b[0m         _path \u001b[39m=\u001b[39m _os\u001b[39m.\u001b[39mpath\u001b[39m.\u001b[39mabspath(_os\u001b[39m.\u001b[39mpath\u001b[39m.\u001b[39mjoin(_path, \u001b[39m'\u001b[39m\u001b[39m..\u001b[39m\u001b[39m'\u001b[39m))\n\u001b[0;32m--> <a href='file:///Users/kurreman/.pyenv/versions/3.10.3/lib/python3.10/site-packages/soundfile.py?line=161'>162</a>\u001b[0m     _snd \u001b[39m=\u001b[39m _ffi\u001b[39m.\u001b[39;49mdlopen(_os\u001b[39m.\u001b[39;49mpath\u001b[39m.\u001b[39;49mjoin(\n\u001b[1;32m    <a href='file:///Users/kurreman/.pyenv/versions/3.10.3/lib/python3.10/site-packages/soundfile.py?line=162'>163</a>\u001b[0m         _path, \u001b[39m'\u001b[39;49m\u001b[39m_soundfile_data\u001b[39;49m\u001b[39m'\u001b[39;49m, _libname))\n\u001b[1;32m    <a href='file:///Users/kurreman/.pyenv/versions/3.10.3/lib/python3.10/site-packages/soundfile.py?line=164'>165</a>\u001b[0m __libsndfile_version__ \u001b[39m=\u001b[39m _ffi\u001b[39m.\u001b[39mstring(_snd\u001b[39m.\u001b[39msf_version_string())\u001b[39m.\u001b[39mdecode(\u001b[39m'\u001b[39m\u001b[39mutf-8\u001b[39m\u001b[39m'\u001b[39m, \u001b[39m'\u001b[39m\u001b[39mreplace\u001b[39m\u001b[39m'\u001b[39m)\n\u001b[1;32m    <a href='file:///Users/kurreman/.pyenv/versions/3.10.3/lib/python3.10/site-packages/soundfile.py?line=165'>166</a>\u001b[0m \u001b[39mif\u001b[39;00m __libsndfile_version__\u001b[39m.\u001b[39mstartswith(\u001b[39m'\u001b[39m\u001b[39mlibsndfile-\u001b[39m\u001b[39m'\u001b[39m):\n",
      "\u001b[0;31mOSError\u001b[0m: cannot load library '/Users/kurreman/.pyenv/versions/3.10.3/lib/python3.10/site-packages/_soundfile_data/libsndfile.dylib': dlopen(/Users/kurreman/.pyenv/versions/3.10.3/lib/python3.10/site-packages/_soundfile_data/libsndfile.dylib, 0x0002): tried: '/Users/kurreman/.pyenv/versions/3.10.3/lib/python3.10/site-packages/_soundfile_data/libsndfile.dylib' (no such file)"
     ]
    }
   ],
   "source": [
    "#Syntax to download data through terminal: rsync -aP kkulbay@student-shell.sys.kth.se:/afs/kth.se/misc/csc/dept/tmh/corpora/tidigits/disc_4.2.1/tidigits/test/ ~/Desktop/KTH/DT2119_Speech_and_Speaker_Recognition/dt2119/DT2119_Speech/LAB3/tidigits/test\n",
    "\n",
    "import numpy as np\n",
    "import lab3_tools as tools\n",
    "import lab1_proto as proto1\n",
    "import lab1_tools as tools1"
   ]
  },
  {
   "cell_type": "markdown",
   "metadata": {},
   "source": [
    "# 4.1 Target Class Definition"
   ]
  },
  {
   "cell_type": "code",
   "execution_count": null,
   "metadata": {},
   "outputs": [],
   "source": [
    "# phoneHMMs = np.load('lab2_models_all.npz',allow_pickle=True)['phoneHMMs'].item()\n",
    "# phones = sorted(phoneHMMs.keys())\n",
    "# nstates = {phone: phoneHMMs[phone]['means'].shape[0] for phone in phones}\n",
    "# stateList = [ph + '_' + str(id) for ph in phones for id in range(nstates[ph])]\n",
    "\n",
    "# np.save(\"stateList.npy\",stateList)\n",
    "\n",
    "#loading genereated list from above \n",
    "stateList = np.load(\"stateList.npy\", allow_pickle=True)"
   ]
  },
  {
   "cell_type": "markdown",
   "metadata": {},
   "source": [
    "# 4.2 Forced Alignment"
   ]
  },
  {
   "cell_type": "code",
   "execution_count": null,
   "metadata": {},
   "outputs": [
    {
     "ename": "KeyError",
     "evalue": "'zero is not a file in the archive'",
     "output_type": "error",
     "traceback": [
      "\u001b[0;31m---------------------------------------------------------------------------\u001b[0m",
      "\u001b[0;31mKeyError\u001b[0m                                  Traceback (most recent call last)",
      "\u001b[1;32m/Users/kurreman/Desktop/KTH/DT2119_Speech_and_Speaker_Recognition/dt2119/DT2119_Speech/LAB3/LAB3_KORAY.ipynb Cell 5'\u001b[0m in \u001b[0;36m<cell line: 2>\u001b[0;34m()\u001b[0m\n\u001b[1;32m      <a href='vscode-notebook-cell:/Users/kurreman/Desktop/KTH/DT2119_Speech_and_Speaker_Recognition/dt2119/DT2119_Speech/LAB3/LAB3_KORAY.ipynb#ch0000005?line=0'>1</a>\u001b[0m example \u001b[39m=\u001b[39m stateList \u001b[39m=\u001b[39m np\u001b[39m.\u001b[39mload(\u001b[39m\"\u001b[39m\u001b[39mlab3_example.npz\u001b[39m\u001b[39m\"\u001b[39m, allow_pickle\u001b[39m=\u001b[39m\u001b[39mTrue\u001b[39;00m)\n\u001b[0;32m----> <a href='vscode-notebook-cell:/Users/kurreman/Desktop/KTH/DT2119_Speech_and_Speaker_Recognition/dt2119/DT2119_Speech/LAB3/LAB3_KORAY.ipynb#ch0000005?line=1'>2</a>\u001b[0m example[\u001b[39m\"\u001b[39;49m\u001b[39mzero\u001b[39;49m\u001b[39m\"\u001b[39;49m]\n",
      "File \u001b[0;32m~/.pyenv/versions/3.10.3/lib/python3.10/site-packages/numpy/lib/npyio.py:249\u001b[0m, in \u001b[0;36mNpzFile.__getitem__\u001b[0;34m(self, key)\u001b[0m\n\u001b[1;32m    <a href='file:///Users/kurreman/.pyenv/versions/3.10.3/lib/python3.10/site-packages/numpy/lib/npyio.py?line=246'>247</a>\u001b[0m         \u001b[39mreturn\u001b[39;00m \u001b[39mself\u001b[39m\u001b[39m.\u001b[39mzip\u001b[39m.\u001b[39mread(key)\n\u001b[1;32m    <a href='file:///Users/kurreman/.pyenv/versions/3.10.3/lib/python3.10/site-packages/numpy/lib/npyio.py?line=247'>248</a>\u001b[0m \u001b[39melse\u001b[39;00m:\n\u001b[0;32m--> <a href='file:///Users/kurreman/.pyenv/versions/3.10.3/lib/python3.10/site-packages/numpy/lib/npyio.py?line=248'>249</a>\u001b[0m     \u001b[39mraise\u001b[39;00m \u001b[39mKeyError\u001b[39;00m(\u001b[39m\"\u001b[39m\u001b[39m%s\u001b[39;00m\u001b[39m is not a file in the archive\u001b[39m\u001b[39m\"\u001b[39m \u001b[39m%\u001b[39m key)\n",
      "\u001b[0;31mKeyError\u001b[0m: 'zero is not a file in the archive'"
     ]
    }
   ],
   "source": [
    "example = stateList = np.load(\"lab3_example.npz\", allow_pickle=True)\n",
    "\n",
    "filename = 'tidigits/disc_4.1.1/tidigits/train/man/nw/z43a.wav'\n",
    "samples, samplingrate = tools.loadAudio(filename)\n",
    "lmfcc = proto1.mfcc(samples)\n"
   ]
  }
 ],
 "metadata": {
  "interpreter": {
   "hash": "a514c0d81db33b21161385242a1f4ac0a18b69078936e84731e144b116c774a0"
  },
  "kernelspec": {
   "display_name": "Python 3.10.3 64-bit ('3.10.3')",
   "language": "python",
   "name": "python3"
  },
  "language_info": {
   "codemirror_mode": {
    "name": "ipython",
    "version": 3
   },
   "file_extension": ".py",
   "mimetype": "text/x-python",
   "name": "python",
   "nbconvert_exporter": "python",
   "pygments_lexer": "ipython3",
   "version": "3.10.3"
  },
  "orig_nbformat": 4
 },
 "nbformat": 4,
 "nbformat_minor": 2
}
