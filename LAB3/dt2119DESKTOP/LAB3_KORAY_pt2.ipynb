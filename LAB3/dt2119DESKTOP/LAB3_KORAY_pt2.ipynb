{
 "cells": [
  {
   "cell_type": "markdown",
   "metadata": {},
   "source": [
    "### This is a second notebook due to environment issues"
   ]
  },
  {
   "cell_type": "code",
   "execution_count": 20,
   "metadata": {},
   "outputs": [],
   "source": [
    "import numpy as np\n",
    "import lab3_tools as tools\n",
    "import lab3_proto as proto\n",
    "import lab1_proto as proto1\n",
    "import lab1_tools as tools1\n",
    "import lab2_proto as proto2\n",
    "import lab2_tools as tools2\n",
    "import matplotlib.pyplot as plt\n",
    "import os\n",
    "from sklearn.preprocessing import StandardScaler\n",
    "import tensorflow as tf\n",
    "from tensorflow import keras\n",
    "#from tensorflow.keras.utils import np_utils\n",
    "from keras.utils import np_utils\n",
    "\n",
    "%reload_ext autoreload\n",
    "%autoreload 2"
   ]
  },
  {
   "cell_type": "code",
   "execution_count": 21,
   "metadata": {},
   "outputs": [],
   "source": [
    "stateList = np.load(\"stateList.npy\", allow_pickle=True).tolist()"
   ]
  },
  {
   "cell_type": "markdown",
   "metadata": {},
   "source": [
    "# 4.6 continuation"
   ]
  },
  {
   "cell_type": "markdown",
   "metadata": {},
   "source": [
    "## Data conversion"
   ]
  },
  {
   "cell_type": "code",
   "execution_count": 22,
   "metadata": {},
   "outputs": [],
   "source": [
    "output_dim = len(stateList)\n",
    "#----\n",
    "trainFile = np.load(\"flatDataTrain.npz\")\n",
    "lmfcc_train_x=trainFile[\"lmfcc_train_x\"].astype('float32')\n",
    "mspec_train_x=trainFile[\"mspec_train_x\"].astype('float32')\n",
    "dlmfcc_train_x=trainFile[\"dlmfcc_train_x\"].astype('float32')\n",
    "dmspec_train_x=trainFile[\"dmspec_train_x\"].astype('float32')\n",
    "train_y=np_utils.to_categorical(trainFile[\"train_y\"],output_dim)\n",
    "#print(lmfcc_train_x.shape,mspec_train_x.shape,dlmfcc_train_x.shape,dmspec_train_x.shape,train_y.shape) #| Shapes checked and OK\n",
    "#----\n",
    "valFile = np.load(\"flatDataVal.npz\")\n",
    "lmfcc_val_x=valFile[\"lmfcc_val_x\"].astype('float32')\n",
    "mspec_val_x=valFile[\"mspec_val_x\"].astype('float32')\n",
    "dlmfcc_val_x=valFile[\"dlmfcc_val_x\"].astype('float32')\n",
    "dmspec_val_x=valFile[\"dmspec_val_x\"].astype('float32')\n",
    "val_y=np_utils.to_categorical(valFile[\"val_y\"],output_dim)\n",
    "#print(lmfcc_val_x.shape,mspec_val_x.shape,dlmfcc_val_x.shape,dmspec_val_x.shape,val_y.shape)\n",
    "#----\n",
    "testFile = np.load(\"flatDataTest.npz\")\n",
    "lmfcc_test_x=testFile[\"lmfcc_test_x\"].astype('float32')\n",
    "mspec_test_x=testFile[\"mspec_test_x\"].astype('float32')\n",
    "dlmfcc_test_x=testFile[\"dlmfcc_test_x\"].astype('float32')\n",
    "dmspec_test_x=testFile[\"dmspec_test_x\"].astype('float32')\n",
    "test_y=np_utils.to_categorical(testFile[\"test_y\"],output_dim)\n",
    "#print(lmfcc_test_x.shape,mspec_test_x.shape,dlmfcc_test_x.shape,dmspec_test_x.shape,test_y.shape)"
   ]
  },
  {
   "cell_type": "markdown",
   "metadata": {},
   "source": [
    "# 5. Phoneme Recognition with Deep Neural Networks"
   ]
  },
  {
   "cell_type": "code",
   "execution_count": 23,
   "metadata": {},
   "outputs": [],
   "source": [
    "#features = lmfcc_train_x\n",
    "#labels = train_y\n",
    "\n",
    "features_val_lmfcc = lmfcc_val_x\n",
    "features_val_mspec = mspec_val_x\n",
    "features_val_dlmfcc = dlmfcc_val_x\n",
    "features_val_dmspec = dmspec_val_x\n",
    "labels_val = val_y\n",
    "\n",
    "#feature_dim = features.shape[1]\n",
    "#model = tf.keras.Sequential()\n",
    "#model.add(tf.keras.layers.Dense(80,activation=tf.nn.relu,input_shape=(feature_dim,)))\n",
    "#model.add(tf.keras.layers.Dense(70,activation=tf.nn.relu)) #choose ReLu since it's faster to compute compared to Sigmoid\n",
    "#model.add(tf.keras.layers.Dense(output_dim,activation=tf.nn.softmax)) #softmax distributes probabilitites across our states\n",
    "\n",
    "#model.compile(loss=\"categorical_crossentropy\",\n",
    "            #optimizer=\"sgd\",\n",
    "            #metrics=[\"accuracy\"])\n",
    "\n",
    "#model.summary()\n"
   ]
  },
  {
   "cell_type": "code",
   "execution_count": 24,
   "metadata": {},
   "outputs": [],
   "source": [
    "# = 2 #Goes through data set EPOCHS number of times \n",
    "#BATCH_SIZE = 256 #Each training step model will see BATCH_SIZE number of examples to guide and adjust parameters\n",
    "\n",
    "#model.fit(features,labels,epochs=EPOCHS,batch_size=BATCH_SIZE)"
   ]
  },
  {
   "cell_type": "code",
   "execution_count": 25,
   "metadata": {},
   "outputs": [
    {
     "name": "stdout",
     "output_type": "stream",
     "text": [
      "On lmfcc model\n",
      "Epoch 1/2\n",
      "5264/5264 [==============================] - 7s 1ms/step - loss: 2.3865 - accuracy: 0.3705\n",
      "Epoch 2/2\n",
      "5264/5264 [==============================] - 6s 1ms/step - loss: 1.7504 - accuracy: 0.4795\n",
      "On mspec model\n",
      "Epoch 1/2\n",
      "5264/5264 [==============================] - 7s 1ms/step - loss: 2.4226 - accuracy: 0.3428\n",
      "Epoch 2/2\n",
      "5264/5264 [==============================] - 6s 1ms/step - loss: 1.9247 - accuracy: 0.4319\n",
      "On dlmfcc model\n",
      "Epoch 1/2\n",
      "5264/5264 [==============================] - 7s 1ms/step - loss: 1.9605 - accuracy: 0.4528\n",
      "Epoch 2/2\n",
      "5264/5264 [==============================] - 6s 1ms/step - loss: 1.3708 - accuracy: 0.5741\n",
      "On dmspec model\n",
      "Epoch 1/2\n",
      "5264/5264 [==============================] - 7s 1ms/step - loss: 1.9238 - accuracy: 0.4503\n",
      "Epoch 2/2\n",
      "5264/5264 [==============================] - 7s 1ms/step - loss: 1.3834 - accuracy: 0.5731\n"
     ]
    }
   ],
   "source": [
    "EPOCHS = 2\n",
    "BATCH_SIZE = 256\n",
    "print(\"On lmfcc model\")\n",
    "model_lmfcc = proto.trainDNN(lmfcc_train_x,train_y,EPOCHS,BATCH_SIZE)\n",
    "print(\"On mspec model\")\n",
    "model_mspec = proto.trainDNN(mspec_train_x,train_y,EPOCHS,BATCH_SIZE)\n",
    "print(\"On dlmfcc model\")\n",
    "model_dlmfcc = proto.trainDNN(dlmfcc_train_x,train_y,EPOCHS,BATCH_SIZE)\n",
    "print(\"On dmspec model\")\n",
    "model_dmspec = proto.trainDNN(dmspec_train_x,train_y,EPOCHS,BATCH_SIZE)"
   ]
  },
  {
   "cell_type": "markdown",
   "metadata": {},
   "source": [
    "### Purpose of validation data? \n",
    "\n",
    "- Training data: Used to created weights of neural network\n",
    "- Validation data: Used to compare different neural networks and choose the one that gives best result\n",
    "- Test data: Simply used to test performance of the trained and chosen neural network. If not good results, start over. \n",
    "\n",
    "If you use the training and validation data as the same, the choice of neural network can be biased. Which means that the neural network was chosen as better just for that data. Real world data mighjt not have that connection to the neural network and might therefore not perform well. "
   ]
  },
  {
   "cell_type": "code",
   "execution_count": 26,
   "metadata": {},
   "outputs": [
    {
     "name": "stdout",
     "output_type": "stream",
     "text": [
      "4996/4996 [==============================] - 3s 640us/step - loss: 1.6859 - accuracy: 0.4921\n",
      "val_acc_lmfcc: 0.4921266436576843\n",
      "val_loss_lmfcc: 1.6858845949172974\n",
      "4996/4996 [==============================] - 3s 631us/step - loss: 1.8335 - accuracy: 0.4561\n",
      "val_acc_mspec: 0.4560600221157074\n",
      "val_loss_mspec: 1.8335018157958984\n",
      "4996/4996 [==============================] - 3s 639us/step - loss: 1.2688 - accuracy: 0.6002\n",
      "val_acc_dlmfcc: 0.6001576781272888\n",
      "val_loss_dlmfcc: 1.268845796585083\n",
      "4996/4996 [==============================] - 3s 643us/step - loss: 1.2760 - accuracy: 0.6012\n",
      "val_acc_dmspec: 0.6012462377548218\n",
      "val_loss_dmspec: 1.2759679555892944\n"
     ]
    }
   ],
   "source": [
    "val_loss_lmfcc, val_acc_lmfcc = model_lmfcc.evaluate(features_val_lmfcc,labels_val)\n",
    "print(\"val_acc_lmfcc:\",val_acc_lmfcc) #Can increase with more epochs and more sofisticated model\n",
    "print(\"val_loss_lmfcc:\",val_loss_lmfcc)\n",
    "val_loss_mspec, val_acc_mspec = model_mspec.evaluate(features_val_mspec,labels_val)\n",
    "print(\"val_acc_mspec:\",val_acc_mspec) #Can increase with more epochs and more sofisticated model\n",
    "print(\"val_loss_mspec:\",val_loss_mspec)\n",
    "val_loss_dlmfcc, val_acc_dlmfcc = model_dlmfcc.evaluate(features_val_dlmfcc,labels_val)\n",
    "print(\"val_acc_dlmfcc:\",val_acc_dlmfcc) #Can increase with more epochs and more sofisticated model\n",
    "print(\"val_loss_dlmfcc:\",val_loss_dlmfcc)\n",
    "val_loss_dmspec, val_acc_dmspec = model_dmspec.evaluate(features_val_dmspec,labels_val)\n",
    "print(\"val_acc_dmspec:\",val_acc_dmspec) #Can increase with more epochs and more sofisticated model\n",
    "print(\"val_loss_dmspec:\",val_loss_dmspec)"
   ]
  },
  {
   "cell_type": "markdown",
   "metadata": {},
   "source": [
    "## 5.2 Possible questions\n",
    "\n",
    "- what is the influence of feature kind and size of input context window?\n",
    "    - The input kind is important since that reveals the amount of \"hidden data\". Ex. the lmfcc has been stripped of some information compared to the mspecs. This can later be interpred by the hidden layers. \n",
    "    -   input context window $\\color{red}{!!!}$\n",
    "- what is the purpose of normalising (standardising) the input feature vectors depending on\n",
    "the activation functions in the network?\n",
    "    - Because otherwise some values that shouldn't activate the activation function will do so and vice versa. When normalising all values, one ensures that all data is represented in relation to each other.\n",
    "    - Looking at what happens when one only normalises for each utterance, some parts of an utterance might trigger the activation function even though it wouldn't have if one normalised all utterances in relation to each other. This is why shorter utterances might be over represented when one only normalises for each utternace in isolation.\n",
    "- what is the influence of the number of units per layer and the number of layers?\n",
    "    - answer\n",
    "- what is the influence of the activation function (when you try other activation functions\n",
    "than ReLU, you do not need to reach convergence in case you do not have enough time)\n",
    "    - answer\n",
    "- what is the influence of the learning rate/learning rate strategy?\n",
    "    - answer\n",
    "- how stable are the posteriograms from the network in time?\n",
    "    - answer\n",
    "- how do the errors distribute depending on phonetic class?\n",
    "    - answer"
   ]
  }
 ],
 "metadata": {
  "interpreter": {
   "hash": "4c56dde32312b51f3125b3da835da250fcf310d1475bfad666419fd8986aabd3"
  },
  "kernelspec": {
   "display_name": "Python 3.9.12 ('base')",
   "language": "python",
   "name": "python3"
  },
  "language_info": {
   "codemirror_mode": {
    "name": "ipython",
    "version": 3
   },
   "file_extension": ".py",
   "mimetype": "text/x-python",
   "name": "python",
   "nbconvert_exporter": "python",
   "pygments_lexer": "ipython3",
   "version": "3.9.12"
  },
  "orig_nbformat": 4
 },
 "nbformat": 4,
 "nbformat_minor": 2
}
