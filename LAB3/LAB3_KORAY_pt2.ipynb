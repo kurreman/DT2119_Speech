{
 "cells": [
  {
   "cell_type": "markdown",
   "metadata": {},
   "source": [
    "### This is a second notebook due to environment issues"
   ]
  },
  {
   "cell_type": "code",
   "execution_count": 1,
   "metadata": {},
   "outputs": [],
   "source": [
    "import numpy as np\n",
    "import lab3_tools as tools\n",
    "import lab3_proto as proto\n",
    "import lab1_proto as proto1\n",
    "import lab1_tools as tools1\n",
    "import lab2_proto as proto2\n",
    "import lab2_tools as tools2\n",
    "import matplotlib.pyplot as plt\n",
    "import os\n",
    "from sklearn.preprocessing import StandardScaler\n",
    "import tensorflow as tf\n",
    "from tensorflow import keras\n",
    "#from tensorflow.keras.utils import np_utils\n",
    "from keras.utils import np_utils"
   ]
  },
  {
   "cell_type": "code",
   "execution_count": 2,
   "metadata": {},
   "outputs": [],
   "source": [
    "stateList = np.load(\"stateList.npy\", allow_pickle=True).tolist()"
   ]
  },
  {
   "cell_type": "markdown",
   "metadata": {},
   "source": [
    "# 4.6 continuation"
   ]
  },
  {
   "cell_type": "markdown",
   "metadata": {},
   "source": [
    "## Data conversion"
   ]
  },
  {
   "cell_type": "code",
   "execution_count": 3,
   "metadata": {},
   "outputs": [],
   "source": [
    "output_dim = len(stateList)\n",
    "#----\n",
    "trainFile = np.load(\"flatDataTrain.npz\")\n",
    "lmfcc_train_x=trainFile[\"lmfcc_train_x\"].astype('float32')\n",
    "mspec_train_x=trainFile[\"mspec_train_x\"].astype('float32')\n",
    "dlmfcc_train_x=trainFile[\"dlmfcc_train_x\"].astype('float32')\n",
    "dmspec_train_x=trainFile[\"dmspec_train_x\"].astype('float32')\n",
    "train_y=np_utils.to_categorical(trainFile[\"train_y\"],output_dim)\n",
    "#print(lmfcc_train_x.shape,mspec_train_x.shape,dlmfcc_train_x.shape,dmspec_train_x.shape,train_y.shape) #| Shapes checked and OK\n",
    "#----\n",
    "valFile = np.load(\"flatDataVal.npz\")\n",
    "lmfcc_val_x=valFile[\"lmfcc_val_x\"].astype('float32')\n",
    "mspec_val_x=valFile[\"mspec_val_x\"].astype('float32')\n",
    "dlmfcc_val_x=valFile[\"dlmfcc_val_x\"].astype('float32')\n",
    "dmspec_val_x=valFile[\"dmspec_val_x\"].astype('float32')\n",
    "val_y=np_utils.to_categorical(valFile[\"val_y\"],output_dim)\n",
    "#print(lmfcc_val_x.shape,mspec_val_x.shape,dlmfcc_val_x.shape,dmspec_val_x.shape,val_y.shape)\n",
    "#----\n",
    "testFile = np.load(\"flatDataTest.npz\")\n",
    "lmfcc_test_x=testFile[\"lmfcc_test_x\"].astype('float32')\n",
    "mspec_test_x=testFile[\"mspec_test_x\"].astype('float32')\n",
    "dlmfcc_test_x=testFile[\"dlmfcc_test_x\"].astype('float32')\n",
    "dmspec_test_x=testFile[\"dmspec_test_x\"].astype('float32')\n",
    "test_y=np_utils.to_categorical(testFile[\"test_y\"],output_dim)\n",
    "#print(lmfcc_test_x.shape,mspec_test_x.shape,dlmfcc_test_x.shape,dmspec_test_x.shape,test_y.shape)"
   ]
  },
  {
   "cell_type": "markdown",
   "metadata": {},
   "source": [
    "# 5. Phoneme Recognition with Deep Neural Networks"
   ]
  },
  {
   "cell_type": "code",
   "execution_count": 4,
   "metadata": {},
   "outputs": [
    {
     "name": "stdout",
     "output_type": "stream",
     "text": [
      "Model: \"sequential\"\n",
      "_________________________________________________________________\n",
      "Layer (type)                 Output Shape              Param #   \n",
      "=================================================================\n",
      "dense (Dense)                (None, 80)                1120      \n",
      "_________________________________________________________________\n",
      "dense_1 (Dense)              (None, 61)                4941      \n",
      "=================================================================\n",
      "Total params: 6,061\n",
      "Trainable params: 6,061\n",
      "Non-trainable params: 0\n",
      "_________________________________________________________________\n"
     ]
    }
   ],
   "source": [
    "features = lmfcc_train_x\n",
    "labels = train_y\n",
    "features_test = lmfcc_test_x\n",
    "labels_test = test_y\n",
    "feature_dim = features.shape[1]\n",
    "model = tf.keras.Sequential()\n",
    "model.add(tf.keras.layers.Dense(80,activation=tf.nn.relu,input_shape=(feature_dim,)))\n",
    "model.add(tf.keras.layers.Dense(output_dim,activation=tf.nn.softmax)) #softmax distributes probabilitites across our states\n",
    "\n",
    "model.compile(loss=\"categorical_crossentropy\",\n",
    "            optimizer=\"sgd\",\n",
    "            metrics=[\"accuracy\"])\n",
    "\n",
    "model.summary()\n"
   ]
  },
  {
   "cell_type": "code",
   "execution_count": 5,
   "metadata": {},
   "outputs": [
    {
     "ename": "",
     "evalue": "",
     "output_type": "error",
     "traceback": [
      "\u001b[1;31mThe Kernel crashed while executing code in the the current cell or a previous cell. Please review the code in the cell(s) to identify a possible cause of the failure. Click <a href='https://aka.ms/vscodeJupyterKernelCrash'>here</a> for more info. View Jupyter <a href='command:jupyter.viewOutput'>log</a> for further details."
     ]
    },
    {
     "ename": "",
     "evalue": "",
     "output_type": "error",
     "traceback": [
      "\u001b[1;31mCanceled future for execute_request message before replies were done"
     ]
    }
   ],
   "source": [
    "EPOCHS = 2 #Goes through data set EPOCHS number of times \n",
    "BATCH_SIZE = 256 #Each training step model will see BATCH_SIZE number of examples to guide and adjust parameters\n",
    "\n",
    "model.fit(features,labels,epochs=EPOCHS,batch_size=BATCH_SIZE)"
   ]
  },
  {
   "cell_type": "code",
   "execution_count": null,
   "metadata": {},
   "outputs": [],
   "source": [
    "test_loss, test_acc = model.evaluate(features_test,labels_test)\n",
    "print(\"test_acc:\",test_acc) #Can increase with more epochs and more sofisticated model\n",
    "print(\"test_loss:\",test_loss)"
   ]
  }
 ],
 "metadata": {
  "interpreter": {
   "hash": "34c3feffce74c172fa633967654c420657e48ba450b9eca6a297ba970bde5271"
  },
  "kernelspec": {
   "display_name": "Python 3.9.11 ('base')",
   "language": "python",
   "name": "python3"
  },
  "language_info": {
   "codemirror_mode": {
    "name": "ipython",
    "version": 3
   },
   "file_extension": ".py",
   "mimetype": "text/x-python",
   "name": "python",
   "nbconvert_exporter": "python",
   "pygments_lexer": "ipython3",
   "version": "3.9.12"
  },
  "orig_nbformat": 4
 },
 "nbformat": 4,
 "nbformat_minor": 2
}
