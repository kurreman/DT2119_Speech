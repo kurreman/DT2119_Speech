{
 "cells": [
  {
   "cell_type": "markdown",
   "metadata": {},
   "source": [
    "# Setup"
   ]
  },
  {
   "cell_type": "code",
   "execution_count": 134,
   "metadata": {},
   "outputs": [],
   "source": [
    "import numpy as np\n",
    "from prondict import getIsolated\n",
    "import lab2_proto as proto\n",
    "import lab2_tools as tools\n",
    "import matplotlib.pyplot as plt\n",
    "import warnings\n",
    "warnings.filterwarnings(\"ignore\", category=RuntimeWarning)\n",
    "from numpy import asarray, savetxt, loadtxt\n",
    "import pickle\n",
    "import time\n",
    "\n",
    "data = np.load('lab2_data.npz', allow_pickle=True)['data']\n",
    "\n",
    "example = np.load('lab2_example.npz', allow_pickle=True)['example'].item()\n",
    "phoneHMMs_fem = np.load('lab2_models_onespkr.npz', allow_pickle=True)['phoneHMMs'].item()\n",
    "phoneHMMs_all = np.load('lab2_models_all.npz', allow_pickle=True)['phoneHMMs'].item()\n",
    "\n",
    "isolated = getIsolated()\n",
    "\n",
    "wordHMMs_all = {}\n",
    "for key in isolated.keys():\n",
    "    wordHMMs_all[key] = proto.concatHMMs(phoneHMMs_all, isolated[key])\n",
    "\n",
    "wordHMMs_fem = {}\n",
    "for key in isolated.keys():\n",
    "    wordHMMs_fem[key] = proto.concatHMMs(phoneHMMs_fem, isolated[key])\n",
    "\n"
   ]
  },
  {
   "cell_type": "markdown",
   "metadata": {},
   "source": [
    "# 5.1 Gaussian emission probabilities"
   ]
  },
  {
   "cell_type": "code",
   "execution_count": 135,
   "metadata": {},
   "outputs": [
    {
     "data": {
      "image/png": "[encoded data removed]",
      "text/plain": [
       "<Figure size 432x288 with 1 Axes>"
      ]
     },
     "metadata": {
      "needs_background": "light"
     },
     "output_type": "display_data"
    }
   ],
   "source": [
    "#wordHMMs_fem = {}\n",
    "#wordHMMs_fem['o'] = proto.concatHMMs(phoneHMMs_fem, isolated['o'])\n",
    "obsloglik = tools.log_multivariate_normal_density_diag(example['lmfcc'],wordHMMs_fem['o'][\"means\"],wordHMMs_fem['o'][\"covars\"])\n",
    "\n",
    "if not np.allclose(obsloglik,example['obsloglik']):\n",
    "        raise Exception(\"obsloglik broken\")\n",
    "\n",
    "plt.pcolormesh(obsloglik.T)\n",
    "plt.title(\"o: log likelihood for different Gaussians vs time\")\n",
    "plt.show()"
   ]
  },
  {
   "cell_type": "markdown",
   "metadata": {},
   "source": [
    "One can clearly see that the absence of Guassian distribution 4-5 reveals the silence before the uttererance \"o\" is spoke. "
   ]
  },
  {
   "cell_type": "markdown",
   "metadata": {},
   "source": [
    "# 5.2 Forward Algorithm"
   ]
  },
  {
   "cell_type": "code",
   "execution_count": 136,
   "metadata": {},
   "outputs": [],
   "source": [
    "logalpha = proto.forward(obsloglik,np.log(wordHMMs_fem['o'][\"startprob\"]),np.log(wordHMMs_fem['o'][\"transmat\"]))\n",
    "if not np.allclose(logalpha,example['logalpha']):\n",
    "        raise Exception(\"forward broken\")\n",
    "\n",
    "loglik = proto.loglik(logalpha[-1,:])\n",
    "if not np.allclose(loglik,example['loglik']):\n",
    "        raise Exception(\"loglik broken\")"
   ]
  },
  {
   "cell_type": "markdown",
   "metadata": {},
   "source": [
    "Scoring whole data set with all words using forward algorithm. \n",
    "\n",
    "- ALL: Runtime:  6.2337563037872314 s  | Algorithm:  forward \n",
    "- ONE SPKR: Runtime:  6.094305038452148 s  | Algorithm:  forward"
   ]
  },
  {
   "cell_type": "code",
   "execution_count": 137,
   "metadata": {},
   "outputs": [
    {
     "name": "stdout",
     "output_type": "stream",
     "text": [
      "x-axis ['o', 'z', '1', '2', '3', '4', '5', '6', '7', '8', '9']\n",
      "y-axis ['o', 'o', 'z', 'z', '1', '1', '2', '2', '3', '3', '4', '4', '5', '5', '6', '6', '7', '7', '8', '8', '9', '9', 'o', 'o', 'z', 'z', '1', '1', '2', '2', '3', '3', '4', '4', '5', '5', '6', '6', '7', '7', '8', '8', '9', '9']\n"
     ]
    },
    {
     "data": {
      "image/png": "[encoded data removed]",
      "text/plain": [
       "<Figure size 432x288 with 1 Axes>"
      ]
     },
     "metadata": {
      "needs_background": "light"
     },
     "output_type": "display_data"
    },
    {
     "name": "stdout",
     "output_type": "stream",
     "text": [
      "x-axis ['o', 'z', '1', '2', '3', '4', '5', '6', '7', '8', '9']\n",
      "y-axis ['o', 'o', 'z', 'z', '1', '1', '2', '2', '3', '3', '4', '4', '5', '5', '6', '6', '7', '7', '8', '8', '9', '9', 'o', 'o', 'z', 'z', '1', '1', '2', '2', '3', '3', '4', '4', '5', '5', '6', '6', '7', '7', '8', '8', '9', '9']\n"
     ]
    },
    {
     "data": {
      "image/png": "[encoded data removed]",
      "text/plain": [
       "<Figure size 432x288 with 1 Axes>"
      ]
     },
     "metadata": {
      "needs_background": "light"
     },
     "output_type": "display_data"
    }
   ],
   "source": [
    "#------------\n",
    "# score_table_all = proto.score_data(data,wordHMMs_all)\n",
    "# score_table_fem = proto.score_data(data,wordHMMs_fem)\n",
    "\n",
    "# pickle.dump(score_table_all, open( \"score_table_all.p\", \"wb\" ) )\n",
    "# pickle.dump(score_table_fem, open( \"score_table_fem.p\", \"wb\" ) )\n",
    "#-------\n",
    "score_table_all = pickle.load( open( \"score_table_all.p\", \"rb\" ) )\n",
    "score_table_fem = pickle.load( open( \"score_table_fem.p\", \"rb\" ) )\n",
    "\n",
    "score_matrix_all, word_list_all, digit_list_all = proto.table2matrix(score_table_all)\n",
    "score_matrix_fem, word_list_fem, digit_list_fem = proto.table2matrix(score_table_fem)\n",
    "\n",
    "print(\"x-axis\", word_list_all)\n",
    "print(\"y-axis\",digit_list_all)\n",
    "plt.pcolormesh(score_matrix_all)\n",
    "plt.title(\"all speakers\")\n",
    "plt.show()\n",
    "print(\"x-axis\", word_list_fem)\n",
    "print(\"y-axis\",digit_list_fem)\n",
    "plt.pcolormesh(score_matrix_fem)\n",
    "plt.title(\"female speaker\")\n",
    "plt.show()\n",
    "\n"
   ]
  },
  {
   "cell_type": "markdown",
   "metadata": {},
   "source": [
    "Now only picking the highest likelihood."
   ]
  },
  {
   "cell_type": "code",
   "execution_count": 138,
   "metadata": {},
   "outputs": [
    {
     "name": "stdout",
     "output_type": "stream",
     "text": [
      "ALL SPEAKER DATA\n",
      "Utterance: ['o', 'o', 'z', 'z', '1', '1', '2', '2', '3', '3', '4', '4', '5', '5', '6', '6', '7', '7', '8', '8', '9', '9', 'o', 'o', 'z', 'z', '1', '1', '2', '2', '3', '3', '4', '4', '5', '5', '6', '6', '7', '7', '8', '8', '9', '9']\n",
      "Best fit:  ['o', 'o', 'z', 'z', '1', '1', '2', '2', '3', '3', '4', '4', '5', '5', '6', '6', '7', '7', '8', '8', '9', '9', 'o', 'o', 'z', 'z', '1', '1', '2', '2', '3', '3', '4', '4', '5', '5', '6', '6', '7', '7', '8', '8', '1', '9']\n",
      "Score is:  0.9772727272727273\n",
      "ONE SPEAKER DATA\n",
      "Utterance: ['o', 'o', 'z', 'z', '1', '1', '2', '2', '3', '3', '4', '4', '5', '5', '6', '6', '7', '7', '8', '8', '9', '9', 'o', 'o', 'z', 'z', '1', '1', '2', '2', '3', '3', '4', '4', '5', '5', '6', '6', '7', '7', '8', '8', '9', '9']\n",
      "Best fit:  ['o', 'o', 'z', 'z', '3', '9', '3', '2', '3', '3', '4', '4', '3', '3', '6', '6', '3', '3', '3', '3', '9', 'z', 'o', 'o', 'z', 'z', '1', '1', '2', '2', '3', '3', '4', '4', '5', '5', '6', '6', '7', '7', '8', '8', '9', '9']\n",
      "Score is:  0.7727272727272727\n"
     ]
    }
   ],
   "source": [
    "best_fit_list_all = proto.pickbestfit(score_matrix_all,word_list_all)\n",
    "\n",
    "print(\"ALL SPEAKER DATA\")\n",
    "print(\"Utterance:\",digit_list_all)\n",
    "print(\"Best fit: \",best_fit_list_all)\n",
    "print(\"Score is: \", proto.percentCorrect(digit_list_all,best_fit_list_all))\n",
    "\n",
    "best_fit_list_fem = proto.pickbestfit(score_matrix_fem,word_list_fem)\n",
    "\n",
    "print(\"ONE SPEAKER DATA\")\n",
    "print(\"Utterance:\",digit_list_fem)\n",
    "print(\"Best fit: \",best_fit_list_fem)\n",
    "print(\"Score is: \", proto.percentCorrect(digit_list_fem,best_fit_list_fem))\n"
   ]
  },
  {
   "cell_type": "markdown",
   "metadata": {},
   "source": [
    "Above one sees that only using one speaker generates wrong word matching more often than if multiple speakers are used. "
   ]
  },
  {
   "cell_type": "markdown",
   "metadata": {},
   "source": [
    "# 5.3 Viterbi Approximation $\\textcolor{red}{!!!}$"
   ]
  },
  {
   "cell_type": "code",
   "execution_count": 139,
   "metadata": {},
   "outputs": [],
   "source": [
    "viterbi, vpath = proto.viterbi(obsloglik,np.log(wordHMMs_fem['o'][\"startprob\"]),np.log(wordHMMs_fem['o'][\"transmat\"]))\n",
    "vloglik = np.max(viterbi[-1,:])\n",
    "best_path = []\n",
    "for subpath in vpath:\n",
    "        best_path.append(np.argmax(subpath))\n",
    "if not np.allclose(vloglik,example['vloglik']):\n",
    "        raise Exception(\"viterbi broken\")\n",
    "\n",
    "# print(best_path)\n",
    "# print(vpath)\n",
    "\n",
    "# plt.pcolormesh(logalpha.T)\n",
    "# plt.show()\n"
   ]
  },
  {
   "cell_type": "markdown",
   "metadata": {},
   "source": [
    "Scoring whole data set with all words using viterbi algorithm\n",
    "\n",
    "- ALL: Runtime:  1.503209114074707 s  | Algorithm:  viterbi\n",
    "- ONE SPKR: Runtime:  1.4837613105773926 s  | Algorithm:  viterbi"
   ]
  },
  {
   "cell_type": "code",
   "execution_count": 140,
   "metadata": {},
   "outputs": [
    {
     "name": "stdout",
     "output_type": "stream",
     "text": [
      "x-axis ['o', 'z', '1', '2', '3', '4', '5', '6', '7', '8', '9']\n",
      "y-axis ['o', 'o', 'z', 'z', '1', '1', '2', '2', '3', '3', '4', '4', '5', '5', '6', '6', '7', '7', '8', '8', '9', '9', 'o', 'o', 'z', 'z', '1', '1', '2', '2', '3', '3', '4', '4', '5', '5', '6', '6', '7', '7', '8', '8', '9', '9']\n"
     ]
    },
    {
     "data": {
      "image/png": "[encoded data removed]",
      "text/plain": [
       "<Figure size 432x288 with 1 Axes>"
      ]
     },
     "metadata": {
      "needs_background": "light"
     },
     "output_type": "display_data"
    },
    {
     "name": "stdout",
     "output_type": "stream",
     "text": [
      "x-axis ['o', 'z', '1', '2', '3', '4', '5', '6', '7', '8', '9']\n",
      "y-axis ['o', 'o', 'z', 'z', '1', '1', '2', '2', '3', '3', '4', '4', '5', '5', '6', '6', '7', '7', '8', '8', '9', '9', 'o', 'o', 'z', 'z', '1', '1', '2', '2', '3', '3', '4', '4', '5', '5', '6', '6', '7', '7', '8', '8', '9', '9']\n"
     ]
    },
    {
     "data": {
      "image/png": "[encoded data removed]",
      "text/plain": [
       "<Figure size 432x288 with 1 Axes>"
      ]
     },
     "metadata": {
      "needs_background": "light"
     },
     "output_type": "display_data"
    }
   ],
   "source": [
    "#------------\n",
    "# v_score_table_all = proto.score_data(data,wordHMMs_all,algorithm=\"viterbi\")\n",
    "# v_score_table_fem = proto.score_data(data,wordHMMs_fem,algorithm=\"viterbi\")\n",
    "\n",
    "# pickle.dump(v_score_table_all, open( \"v_score_table_all.p\", \"wb\" ) )\n",
    "# pickle.dump(v_score_table_fem, open( \"v_score_table_fem.p\", \"wb\" ) )\n",
    "#-------\n",
    "v_score_table_all = pickle.load( open( \"v_score_table_all.p\", \"rb\" ) )\n",
    "v_score_table_fem = pickle.load( open( \"v_score_table_fem.p\", \"rb\" ) )\n",
    "\n",
    "v_score_matrix_all, v_word_list_all, v_digit_list_all = proto.table2matrix(v_score_table_all)\n",
    "v_score_matrix_fem, v_word_list_fem, v_digit_list_fem = proto.table2matrix(v_score_table_fem)\n",
    "\n",
    "print(\"x-axis\", v_word_list_all)\n",
    "print(\"y-axis\",v_digit_list_all)\n",
    "plt.pcolormesh(v_score_matrix_all)\n",
    "plt.title(\"all speakers | Viterbi\")\n",
    "plt.show()\n",
    "print(\"x-axis\", v_word_list_fem)\n",
    "print(\"y-axis\",v_digit_list_fem)\n",
    "plt.pcolormesh(v_score_matrix_fem)\n",
    "plt.title(\"female speaker | Viterbi\")\n",
    "plt.show()\n"
   ]
  },
  {
   "cell_type": "markdown",
   "metadata": {},
   "source": [
    "Now only picking the highest likelihood"
   ]
  },
  {
   "cell_type": "code",
   "execution_count": 141,
   "metadata": {},
   "outputs": [
    {
     "name": "stdout",
     "output_type": "stream",
     "text": [
      "ALL SPEAKER DATA | Viterbi\n",
      "Utterance: ['o', 'o', 'z', 'z', '1', '1', '2', '2', '3', '3', '4', '4', '5', '5', '6', '6', '7', '7', '8', '8', '9', '9', 'o', 'o', 'z', 'z', '1', '1', '2', '2', '3', '3', '4', '4', '5', '5', '6', '6', '7', '7', '8', '8', '9', '9']\n",
      "Best fit:  ['o', 'o', 'z', 'z', '1', '1', '2', '2', '3', '3', '4', '4', '5', '5', '6', '6', '7', '7', '8', '8', '9', '9', 'o', 'o', 'z', 'z', '1', '1', '2', '2', '3', '3', '4', '4', '5', '5', '6', '6', '7', '7', '8', '8', '9', '9']\n",
      "Score is:  1.0\n",
      "ONE SPEAKER DATA | Viterbi\n",
      "Utterance: ['o', 'o', 'z', 'z', '1', '1', '2', '2', '3', '3', '4', '4', '5', '5', '6', '6', '7', '7', '8', '8', '9', '9', 'o', 'o', 'z', 'z', '1', '1', '2', '2', '3', '3', '4', '4', '5', '5', '6', '6', '7', '7', '8', '8', '9', '9']\n",
      "Best fit:  ['o', 'o', 'z', 'z', '3', '9', '3', '2', '3', '3', '4', '4', '3', '3', '6', '6', '3', '3', '3', '3', '9', 'z', 'o', 'o', 'z', 'z', '1', '1', '2', '2', '3', '3', '4', '4', '5', '5', '6', '6', '7', '7', '8', '8', '9', '9']\n",
      "Score is:  0.7727272727272727\n"
     ]
    }
   ],
   "source": [
    "v_best_fit_list_all = proto.pickbestfit(v_score_matrix_all,v_word_list_all)\n",
    "\n",
    "print(\"ALL SPEAKER DATA | Viterbi\")\n",
    "print(\"Utterance:\",v_digit_list_all)\n",
    "print(\"Best fit: \",v_best_fit_list_all)\n",
    "print(\"Score is: \", proto.percentCorrect(v_digit_list_all,v_best_fit_list_all))\n",
    "\n",
    "v_best_fit_list_fem = proto.pickbestfit(v_score_matrix_fem,v_word_list_fem)\n",
    "\n",
    "print(\"ONE SPEAKER DATA | Viterbi\")\n",
    "print(\"Utterance:\",v_digit_list_fem)\n",
    "print(\"Best fit: \",v_best_fit_list_fem)\n",
    "print(\"Score is: \", proto.percentCorrect(v_digit_list_fem,v_best_fit_list_fem))"
   ]
  },
  {
   "cell_type": "markdown",
   "metadata": {},
   "source": [
    "Comparing mistake for only female speaker comparing Forward and Viterbi"
   ]
  },
  {
   "cell_type": "code",
   "execution_count": 142,
   "metadata": {},
   "outputs": [
    {
     "name": "stdout",
     "output_type": "stream",
     "text": [
      "ONE SPEAKER DATA | Forward\n",
      "Utterance: ['o', 'o', 'z', 'z', '1', '1', '2', '2', '3', '3', '4', '4', '5', '5', '6', '6', '7', '7', '8', '8', '9', '9', 'o', 'o', 'z', 'z', '1', '1', '2', '2', '3', '3', '4', '4', '5', '5', '6', '6', '7', '7', '8', '8', '9', '9']\n",
      "Best fit:  ['o', 'o', 'z', 'z', '3', '9', '3', '2', '3', '3', '4', '4', '3', '3', '6', '6', '3', '3', '3', '3', '9', 'z', 'o', 'o', 'z', 'z', '1', '1', '2', '2', '3', '3', '4', '4', '5', '5', '6', '6', '7', '7', '8', '8', '9', '9']\n",
      "Score is:  0.7727272727272727\n",
      "ONE SPEAKER DATA | Viterbi\n",
      "Utterance: ['o', 'o', 'z', 'z', '1', '1', '2', '2', '3', '3', '4', '4', '5', '5', '6', '6', '7', '7', '8', '8', '9', '9', 'o', 'o', 'z', 'z', '1', '1', '2', '2', '3', '3', '4', '4', '5', '5', '6', '6', '7', '7', '8', '8', '9', '9']\n",
      "Best fit:  ['o', 'o', 'z', 'z', '3', '9', '3', '2', '3', '3', '4', '4', '3', '3', '6', '6', '3', '3', '3', '3', '9', 'z', 'o', 'o', 'z', 'z', '1', '1', '2', '2', '3', '3', '4', '4', '5', '5', '6', '6', '7', '7', '8', '8', '9', '9']\n",
      "Score is:  0.7727272727272727\n"
     ]
    }
   ],
   "source": [
    "print(\"ONE SPEAKER DATA | Forward\")\n",
    "print(\"Utterance:\",digit_list_fem)\n",
    "print(\"Best fit: \",best_fit_list_fem)\n",
    "print(\"Score is: \", proto.percentCorrect(digit_list_fem,best_fit_list_fem))\n",
    "\n",
    "print(\"ONE SPEAKER DATA | Viterbi\")\n",
    "print(\"Utterance:\",v_digit_list_fem)\n",
    "print(\"Best fit: \",v_best_fit_list_fem)\n",
    "print(\"Score is: \", proto.percentCorrect(v_digit_list_fem,v_best_fit_list_fem))"
   ]
  },
  {
   "cell_type": "markdown",
   "metadata": {},
   "source": [
    "This shows that the mistakes are the same, no matter if using Viterbi or Forward. But we do see that Forward contains one mistake even when using data from all speakers. "
   ]
  },
  {
   "cell_type": "markdown",
   "metadata": {},
   "source": [
    "# 5.4 Backward Algorithm "
   ]
  },
  {
   "cell_type": "code",
   "execution_count": 143,
   "metadata": {},
   "outputs": [],
   "source": [
    "logbeta = proto.backward(obsloglik,np.log(wordHMMs_fem['o'][\"startprob\"]),np.log(wordHMMs_fem['o'][\"transmat\"]))\n",
    "if not np.allclose(logbeta,example['logbeta']):\n",
    "        raise Exception(\"backward broken\")\n",
    "\n",
    "# loglik = proto.loglik(logalpha[-1,:])\n",
    "# if not np.allclose(loglik,example['loglik']):\n",
    "#         raise Exception(\"loglik broken\")"
   ]
  },
  {
   "cell_type": "markdown",
   "metadata": {},
   "source": [
    "# HMM Retraining (emission probability distributions)"
   ]
  },
  {
   "cell_type": "markdown",
   "metadata": {},
   "source": [
    "# 6.1 State posterior probabilities $\\textcolor{red}{!!!}$"
   ]
  },
  {
   "cell_type": "code",
   "execution_count": 144,
   "metadata": {},
   "outputs": [
    {
     "data": {
      "image/png": "[encoded data removed]",
      "text/plain": [
       "<Figure size 432x288 with 1 Axes>"
      ]
     },
     "metadata": {
      "needs_background": "light"
     },
     "output_type": "display_data"
    },
    {
     "data": {
      "image/png": "[encoded data removed]",
      "text/plain": [
       "<Figure size 432x288 with 1 Axes>"
      ]
     },
     "metadata": {
      "needs_background": "light"
     },
     "output_type": "display_data"
    }
   ],
   "source": [
    "loggamma = proto.statePosteriors(logalpha,logbeta)\n",
    "\n",
    "if not np.allclose(loggamma,example['loggamma']):\n",
    "        raise Exception(\"statePosteriers broken\")\n",
    "\n",
    "# print(logalpha[0:2,:])\n",
    "# print(logbeta[0:2,:])\n",
    "# print(loggamma[0:2,:])\n",
    "\n",
    "alpha = np.exp(logalpha)\n",
    "beta = np.exp(logbeta)\n",
    "gamma = np.exp(loggamma)\n",
    "\n",
    "plt.pcolormesh(obsloglik.T)\n",
    "plt.title(\"o: log GMM posteriors vs time\")\n",
    "plt.show()\n",
    "\n",
    "plt.pcolormesh(loggamma.T)\n",
    "plt.title(\"o: log HMM posteriors vs time\")\n",
    "plt.show()\n",
    "\n",
    "\n",
    "\n",
    "        "
   ]
  },
  {
   "cell_type": "markdown",
   "metadata": {},
   "source": [
    "The difference between HMM and GMM is that GMM only evaluates the parameter set of a single state when considering a state, while HMM uses parameter sets for the whole X vector (not only the specific xn). This means that we use important information before and after the state. This way we can catch ex. co-articulation. "
   ]
  },
  {
   "cell_type": "code",
   "execution_count": 145,
   "metadata": {},
   "outputs": [
    {
     "name": "stdout",
     "output_type": "stream",
     "text": [
      "gamma colsum: [ 1.34597458  2.09555994  3.55849998  9.73752276 10.12040999 20.5329264\n",
      " 12.9968938   1.20869929  9.40351326]\n",
      "gamma total sum: 71.0\n",
      "number of observation sequences: 71\n"
     ]
    }
   ],
   "source": [
    "#print(\"alpha colsum:\",alpha.sum(axis=0))\n",
    "#print(\"beta colsum\",beta.sum(axis=0))\n",
    "#print(\"alpha total sum:\",np.rint(alpha.sum(axis=0).sum()),\"beta total sum:\",np.rint(beta.sum(axis=0).sum()))\n",
    "print(\"gamma colsum:\",gamma.sum(axis=0))\n",
    "print(\"gamma total sum:\",np.rint(gamma.sum(axis=0).sum()))\n",
    "print(\"number of observation sequences:\",alpha.shape[0])"
   ]
  },
  {
   "cell_type": "markdown",
   "metadata": {},
   "source": [
    "Summing over the time domain could represent the total number of times that one can expect to observe each state over all 71 observations. This is further supported from the fact that the total sum is the total number of observatio sequences we hace. "
   ]
  },
  {
   "cell_type": "markdown",
   "metadata": {},
   "source": [
    "# 6.2 Retraining the emission probability distributions"
   ]
  },
  {
   "cell_type": "code",
   "execution_count": 146,
   "metadata": {},
   "outputs": [
    {
     "data": {
      "image/png": "[encoded data removed]",
      "text/plain": [
       "<Figure size 432x288 with 1 Axes>"
      ]
     },
     "metadata": {
      "needs_background": "light"
     },
     "output_type": "display_data"
    },
    {
     "data": {
      "image/png": "[encoded data removed]",
      "text/plain": [
       "<Figure size 432x288 with 1 Axes>"
      ]
     },
     "metadata": {
      "needs_background": "light"
     },
     "output_type": "display_data"
    }
   ],
   "source": [
    "utterance = data[10]\n",
    "HMMmodel = wordHMMs_all[\"4\"]\n",
    "#logalpha, logbeta,loggamma = proto.getlogAlphaBetaGamma(utterance,HMMmodel)\n",
    "#loglik = proto.loglik(logalpha[-1,:])\n",
    "\n",
    "#new_means, new_covars = proto.updateMeanAndVar(utterance[\"lmfcc\"],loggamma)\n",
    "\n",
    "def plotRetrainingResults(utterance,HMMmodel):\n",
    "    loglik_plt = []\n",
    "    iteration_plt = []\n",
    "\n",
    "    delta_loglik = np.inf\n",
    "    max_it = 20\n",
    "    loglik_tresh = 1\n",
    "    old_loglik = 0\n",
    "    for i in range(max_it):\n",
    "        #if delta_loglik > loglik_tresh:\n",
    "        #compute new logalpha, logbeta, loggamma\n",
    "        logalpha, logbeta,loggamma = proto.getlogAlphaBetaGamma(utterance,HMMmodel)\n",
    "        #update means and variances | updateMeanAndVar(utterance[\"lmfcc\"],loggamma)\n",
    "        new_means, new_covars = proto.updateMeanAndVar(utterance[\"lmfcc\"],loggamma)\n",
    "        #calc new_loglike \n",
    "        new_loglik = proto.loglik(logalpha[-1,:])\n",
    "        HMMmodel[\"means\"] = new_means\n",
    "        HMMmodel[\"covars\"] = new_covars\n",
    "        delta_loglik = new_loglik-old_loglik\n",
    "        old_loglik = new_loglik\n",
    "\n",
    "        loglik_plt.append(new_loglik)\n",
    "        iteration_plt.append(i)\n",
    "        #else:\n",
    "            #print(\"termination at iteration:\", i)\n",
    "\n",
    "    plt.plot(iteration_plt,loglik_plt)\n",
    "    plt.title(\"Retraining | Loglik vs iteration id\")\n",
    "    plt.show()\n",
    "\n",
    "plotRetrainingResults(data[10],wordHMMs_all[\"4\"])\n",
    "plotRetrainingResults(data[10],wordHMMs_all[\"1\"])"
   ]
  }
 ],
 "metadata": {
  "interpreter": {
   "hash": "a514c0d81db33b21161385242a1f4ac0a18b69078936e84731e144b116c774a0"
  },
  "kernelspec": {
   "display_name": "Python 3.10.3 64-bit ('3.10.3')",
   "language": "python",
   "name": "python3"
  },
  "language_info": {
   "codemirror_mode": {
    "name": "ipython",
    "version": 3
   },
   "file_extension": ".py",
   "mimetype": "text/x-python",
   "name": "python",
   "nbconvert_exporter": "python",
   "pygments_lexer": "ipython3",
   "version": "3.10.3"
  },
  "orig_nbformat": 4
 },
 "nbformat": 4,
 "nbformat_minor": 2
}
