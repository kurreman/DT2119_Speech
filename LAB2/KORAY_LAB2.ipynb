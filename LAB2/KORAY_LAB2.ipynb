{
 "cells": [
  {
   "cell_type": "markdown",
   "metadata": {},
   "source": [
    "# Setup"
   ]
  },
  {
   "cell_type": "code",
   "execution_count": 1,
   "metadata": {},
   "outputs": [],
   "source": [
    "import numpy as np\n",
    "from prondict import getIsolated\n",
    "import lab2_proto as proto\n",
    "import lab2_tools as tools\n",
    "data_raw = np.load('lab2_data.npz', allow_pickle=True)['data']\n",
    "\n",
    "example = np.load('lab2_example.npz', allow_pickle=True)['example'].item()\n",
    "phoneHMMs_fem = np.load('lab2_models_onespkr.npz', allow_pickle=True)['phoneHMMs'].item()\n",
    "phoneHMMs_all = np.load('lab2_models_all.npz', allow_pickle=True)['phoneHMMs'].item()\n",
    "\n",
    "isolated = getIsolated()\n"
   ]
  },
  {
   "cell_type": "markdown",
   "metadata": {},
   "source": [
    "# 5.1 Gaussian emission probabilities"
   ]
  },
  {
   "cell_type": "code",
   "execution_count": null,
   "metadata": {},
   "outputs": [],
   "source": [
    "wordHMMs = {}\n",
    "wordHMMs['o'] = proto.concatHMMs(phoneHMMs_fem, isolated['o'])\n",
    "obsloglik = tools.log_multivariate_normal_density_diag(example['lmfcc'],wordHMMs['o'][\"means\"],wordHMMs['o'][\"covars\"])\n",
    "\n",
    "if not np.allclose(obsloglik,example['obsloglik']):\n",
    "        raise Exception(\"obsloglik broken\")"
   ]
  }
 ],
 "metadata": {
  "interpreter": {
   "hash": "a514c0d81db33b21161385242a1f4ac0a18b69078936e84731e144b116c774a0"
  },
  "kernelspec": {
   "display_name": "Python 3.10.3 64-bit ('3.10.3')",
   "language": "python",
   "name": "python3"
  },
  "language_info": {
   "codemirror_mode": {
    "name": "ipython",
    "version": 3
   },
   "file_extension": ".py",
   "mimetype": "text/x-python",
   "name": "python",
   "nbconvert_exporter": "python",
   "pygments_lexer": "ipython3",
   "version": "3.10.3"
  },
  "orig_nbformat": 4
 },
 "nbformat": 4,
 "nbformat_minor": 2
}
