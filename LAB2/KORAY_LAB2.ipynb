{
 "cells": [
  {
   "cell_type": "markdown",
   "metadata": {},
   "source": [
    "# Setup"
   ]
  },
  {
   "cell_type": "code",
   "execution_count": 1,
   "metadata": {},
   "outputs": [],
   "source": [
    "import numpy as np\n",
    "from prondict import getIsolated\n",
    "import lab2_proto as proto\n",
    "import lab2_tools as tools\n",
    "import matplotlib.pyplot as plt\n",
    "import warnings\n",
    "warnings.filterwarnings(\"ignore\", category=RuntimeWarning)\n",
    "from numpy import asarray, savetxt, loadtxt\n",
    "import pickle\n",
    "import time\n",
    "\n",
    "data = np.load('lab2_data.npz', allow_pickle=True)['data']\n",
    "\n",
    "example = np.load('lab2_example.npz', allow_pickle=True)['example'].item()\n",
    "phoneHMMs_fem = np.load('lab2_models_onespkr.npz', allow_pickle=True)['phoneHMMs'].item()\n",
    "phoneHMMs_all = np.load('lab2_models_all.npz', allow_pickle=True)['phoneHMMs'].item()\n",
    "\n",
    "isolated = getIsolated()\n",
    "\n",
    "wordHMMs_all = {}\n",
    "for key in isolated.keys():\n",
    "    wordHMMs_all[key] = proto.concatHMMs(phoneHMMs_all, isolated[key])\n",
    "\n",
    "wordHMMs_fem = {}\n",
    "for key in isolated.keys():\n",
    "    wordHMMs_fem[key] = proto.concatHMMs(phoneHMMs_fem, isolated[key])\n",
    "\n"
   ]
  },
  {
   "cell_type": "markdown",
   "metadata": {},
   "source": [
    "# 5.1 Gaussian emission probabilities"
   ]
  },
  {
   "cell_type": "code",
   "execution_count": 2,
   "metadata": {},
   "outputs": [
    {
     "data": {
      "image/png": "[encoded data removed]",
      "text/plain": [
       "<Figure size 432x288 with 1 Axes>"
      ]
     },
     "metadata": {
      "needs_background": "light"
     },
     "output_type": "display_data"
    }
   ],
   "source": [
    "#wordHMMs_fem = {}\n",
    "#wordHMMs_fem['o'] = proto.concatHMMs(phoneHMMs_fem, isolated['o'])\n",
    "obsloglik = tools.log_multivariate_normal_density_diag(example['lmfcc'],wordHMMs_fem['o'][\"means\"],wordHMMs_fem['o'][\"covars\"])\n",
    "\n",
    "if not np.allclose(obsloglik,example['obsloglik']):\n",
    "        raise Exception(\"obsloglik broken\")\n",
    "\n",
    "plt.pcolormesh(obsloglik.T)\n",
    "plt.title(\"o: log likelihood for different Gaussians vs time\")\n",
    "plt.show()"
   ]
  },
  {
   "cell_type": "markdown",
   "metadata": {},
   "source": [
    "One can clearly see that the absence of Guassian distribution 4-5 reveals the silence before the uttererance \"o\" is spoke. "
   ]
  },
  {
   "cell_type": "markdown",
   "metadata": {},
   "source": [
    "# 5.2 Forward Algorithm"
   ]
  },
  {
   "cell_type": "code",
   "execution_count": 3,
   "metadata": {},
   "outputs": [],
   "source": [
    "logalpha = proto.forward(obsloglik,np.log(wordHMMs_fem['o'][\"startprob\"]),np.log(wordHMMs_fem['o'][\"transmat\"]))\n",
    "if not np.allclose(logalpha,example['logalpha']):\n",
    "        raise Exception(\"forward broken\")\n",
    "\n",
    "loglik = proto.loglik(logalpha[-1,:])\n",
    "if not np.allclose(loglik,example['loglik']):\n",
    "        raise Exception(\"loglik broken\")"
   ]
  },
  {
   "cell_type": "markdown",
   "metadata": {},
   "source": [
    "Scoring whole data set with all words using forward algorithm. \n",
    "\n",
    "- ALL: Runtime:  6.2337563037872314 s  | Algorithm:  forward \n",
    "- ONE SPKR: Runtime:  6.094305038452148 s  | Algorithm:  forward"
   ]
  },
  {
   "cell_type": "code",
   "execution_count": 4,
   "metadata": {},
   "outputs": [
    {
     "name": "stdout",
     "output_type": "stream",
     "text": [
      "x-axis ['o', 'z', '1', '2', '3', '4', '5', '6', '7', '8', '9']\n",
      "y-axis ['o', 'o', 'z', 'z', '1', '1', '2', '2', '3', '3', '4', '4', '5', '5', '6', '6', '7', '7', '8', '8', '9', '9', 'o', 'o', 'z', 'z', '1', '1', '2', '2', '3', '3', '4', '4', '5', '5', '6', '6', '7', '7', '8', '8', '9', '9']\n"
     ]
    },
    {
     "data": {
      "image/png": "[encoded data removed]",
      "text/plain": [
       "<Figure size 432x288 with 1 Axes>"
      ]
     },
     "metadata": {
      "needs_background": "light"
     },
     "output_type": "display_data"
    },
    {
     "name": "stdout",
     "output_type": "stream",
     "text": [
      "x-axis ['o', 'z', '1', '2', '3', '4', '5', '6', '7', '8', '9']\n",
      "y-axis ['o', 'o', 'z', 'z', '1', '1', '2', '2', '3', '3', '4', '4', '5', '5', '6', '6', '7', '7', '8', '8', '9', '9', 'o', 'o', 'z', 'z', '1', '1', '2', '2', '3', '3', '4', '4', '5', '5', '6', '6', '7', '7', '8', '8', '9', '9']\n"
     ]
    },
    {
     "data": {
      "image/png": "[encoded data removed]",
      "text/plain": [
       "<Figure size 432x288 with 1 Axes>"
      ]
     },
     "metadata": {
      "needs_background": "light"
     },
     "output_type": "display_data"
    }
   ],
   "source": [
    "#------------\n",
    "# score_table_all = proto.score_data(data,wordHMMs_all)\n",
    "# score_table_fem = proto.score_data(data,wordHMMs_fem)\n",
    "\n",
    "# pickle.dump(score_table_all, open( \"score_table_all.p\", \"wb\" ) )\n",
    "# pickle.dump(score_table_fem, open( \"score_table_fem.p\", \"wb\" ) )\n",
    "#-------\n",
    "score_table_all = pickle.load( open( \"score_table_all.p\", \"rb\" ) )\n",
    "score_table_fem = pickle.load( open( \"score_table_fem.p\", \"rb\" ) )\n",
    "\n",
    "score_matrix_all, word_list_all, digit_list_all = proto.table2matrix(score_table_all)\n",
    "score_matrix_fem, word_list_fem, digit_list_fem = proto.table2matrix(score_table_fem)\n",
    "\n",
    "print(\"x-axis\", word_list_all)\n",
    "print(\"y-axis\",digit_list_all)\n",
    "plt.pcolormesh(score_matrix_all)\n",
    "plt.title(\"all speakers\")\n",
    "plt.show()\n",
    "print(\"x-axis\", word_list_fem)\n",
    "print(\"y-axis\",digit_list_fem)\n",
    "plt.pcolormesh(score_matrix_fem)\n",
    "plt.title(\"female speaker\")\n",
    "plt.show()\n",
    "\n"
   ]
  },
  {
   "cell_type": "markdown",
   "metadata": {},
   "source": [
    "Now only picking the highest likelihood."
   ]
  },
  {
   "cell_type": "code",
   "execution_count": 5,
   "metadata": {},
   "outputs": [
    {
     "name": "stdout",
     "output_type": "stream",
     "text": [
      "ALL SPEAKER DATA\n",
      "Utterance: ['o', 'o', 'z', 'z', '1', '1', '2', '2', '3', '3', '4', '4', '5', '5', '6', '6', '7', '7', '8', '8', '9', '9', 'o', 'o', 'z', 'z', '1', '1', '2', '2', '3', '3', '4', '4', '5', '5', '6', '6', '7', '7', '8', '8', '9', '9']\n",
      "Best fit:  ['o', 'o', 'z', 'z', '1', '1', '2', '2', '3', '3', '4', '4', '5', '5', '6', '6', '7', '7', '8', '8', '9', '9', 'o', 'o', 'z', 'z', '1', '1', '2', '2', '3', '3', '4', '4', '5', '5', '6', '6', '7', '7', '8', '8', '1', '9']\n",
      "Score is:  0.9772727272727273\n",
      "ONE SPEAKER DATA\n",
      "Utterance: ['o', 'o', 'z', 'z', '1', '1', '2', '2', '3', '3', '4', '4', '5', '5', '6', '6', '7', '7', '8', '8', '9', '9', 'o', 'o', 'z', 'z', '1', '1', '2', '2', '3', '3', '4', '4', '5', '5', '6', '6', '7', '7', '8', '8', '9', '9']\n",
      "Best fit:  ['o', 'o', 'z', 'z', '3', '9', '3', '2', '3', '3', '4', '4', '3', '3', '6', '6', '3', '3', '3', '3', '9', 'z', 'o', 'o', 'z', 'z', '1', '1', '2', '2', '3', '3', '4', '4', '5', '5', '6', '6', '7', '7', '8', '8', '9', '9']\n",
      "Score is:  0.7727272727272727\n"
     ]
    }
   ],
   "source": [
    "best_fit_list_all = proto.pickbestfit(score_matrix_all,word_list_all)\n",
    "\n",
    "print(\"ALL SPEAKER DATA\")\n",
    "print(\"Utterance:\",digit_list_all)\n",
    "print(\"Best fit: \",best_fit_list_all)\n",
    "print(\"Score is: \", proto.percentCorrect(digit_list_all,best_fit_list_all))\n",
    "\n",
    "best_fit_list_fem = proto.pickbestfit(score_matrix_fem,word_list_fem)\n",
    "\n",
    "print(\"ONE SPEAKER DATA\")\n",
    "print(\"Utterance:\",digit_list_fem)\n",
    "print(\"Best fit: \",best_fit_list_fem)\n",
    "print(\"Score is: \", proto.percentCorrect(digit_list_fem,best_fit_list_fem))\n"
   ]
  },
  {
   "cell_type": "markdown",
   "metadata": {},
   "source": [
    "Above one sees that only using one speaker generates wrong word matching more often than if multiple speakers are used. "
   ]
  },
  {
   "cell_type": "markdown",
   "metadata": {},
   "source": [
    "# 5.3 Viterbi Approximation $\\textcolor{red}{!!!}$"
   ]
  },
  {
   "cell_type": "code",
   "execution_count": 6,
   "metadata": {},
   "outputs": [],
   "source": [
    "viterbi, vpath = proto.viterbi(obsloglik,np.log(wordHMMs_fem['o'][\"startprob\"]),np.log(wordHMMs_fem['o'][\"transmat\"]))\n",
    "vloglik = np.max(viterbi[-1,:])\n",
    "best_path = []\n",
    "for subpath in vpath:\n",
    "        best_path.append(np.argmax(subpath))\n",
    "if not np.allclose(vloglik,example['vloglik']):\n",
    "        raise Exception(\"viterbi broken\")\n",
    "\n",
    "# print(best_path)\n",
    "# print(vpath)\n",
    "\n",
    "# plt.pcolormesh(logalpha.T)\n",
    "# plt.show()\n"
   ]
  },
  {
   "cell_type": "markdown",
   "metadata": {},
   "source": [
    "Scoring whole data set with all words using viterbi algorithm\n",
    "\n",
    "- ALL: Runtime:  1.503209114074707 s  | Algorithm:  viterbi\n",
    "- ONE SPKR: Runtime:  1.4837613105773926 s  | Algorithm:  viterbi"
   ]
  },
  {
   "cell_type": "code",
   "execution_count": 7,
   "metadata": {},
   "outputs": [
    {
     "name": "stdout",
     "output_type": "stream",
     "text": [
      "x-axis ['o', 'z', '1', '2', '3', '4', '5', '6', '7', '8', '9']\n",
      "y-axis ['o', 'o', 'z', 'z', '1', '1', '2', '2', '3', '3', '4', '4', '5', '5', '6', '6', '7', '7', '8', '8', '9', '9', 'o', 'o', 'z', 'z', '1', '1', '2', '2', '3', '3', '4', '4', '5', '5', '6', '6', '7', '7', '8', '8', '9', '9']\n"
     ]
    },
    {
     "data": {
      "image/png": "[encoded data removed]",
      "text/plain": [
       "<Figure size 432x288 with 1 Axes>"
      ]
     },
     "metadata": {
      "needs_background": "light"
     },
     "output_type": "display_data"
    },
    {
     "name": "stdout",
     "output_type": "stream",
     "text": [
      "x-axis ['o', 'z', '1', '2', '3', '4', '5', '6', '7', '8', '9']\n",
      "y-axis ['o', 'o', 'z', 'z', '1', '1', '2', '2', '3', '3', '4', '4', '5', '5', '6', '6', '7', '7', '8', '8', '9', '9', 'o', 'o', 'z', 'z', '1', '1', '2', '2', '3', '3', '4', '4', '5', '5', '6', '6', '7', '7', '8', '8', '9', '9']\n"
     ]
    },
    {
     "data": {
      "image/png": "[encoded data removed]",
      "text/plain": [
       "<Figure size 432x288 with 1 Axes>"
      ]
     },
     "metadata": {
      "needs_background": "light"
     },
     "output_type": "display_data"
    }
   ],
   "source": [
    "#------------\n",
    "# v_score_table_all = proto.score_data(data,wordHMMs_all,algorithm=\"viterbi\")\n",
    "# v_score_table_fem = proto.score_data(data,wordHMMs_fem,algorithm=\"viterbi\")\n",
    "\n",
    "# pickle.dump(v_score_table_all, open( \"v_score_table_all.p\", \"wb\" ) )\n",
    "# pickle.dump(v_score_table_fem, open( \"v_score_table_fem.p\", \"wb\" ) )\n",
    "#-------\n",
    "v_score_table_all = pickle.load( open( \"v_score_table_all.p\", \"rb\" ) )\n",
    "v_score_table_fem = pickle.load( open( \"v_score_table_fem.p\", \"rb\" ) )\n",
    "\n",
    "v_score_matrix_all, v_word_list_all, v_digit_list_all = proto.table2matrix(v_score_table_all)\n",
    "v_score_matrix_fem, v_word_list_fem, v_digit_list_fem = proto.table2matrix(v_score_table_fem)\n",
    "\n",
    "print(\"x-axis\", v_word_list_all)\n",
    "print(\"y-axis\",v_digit_list_all)\n",
    "plt.pcolormesh(v_score_matrix_all)\n",
    "plt.title(\"all speakers | Viterbi\")\n",
    "plt.show()\n",
    "print(\"x-axis\", v_word_list_fem)\n",
    "print(\"y-axis\",v_digit_list_fem)\n",
    "plt.pcolormesh(v_score_matrix_fem)\n",
    "plt.title(\"female speaker | Viterbi\")\n",
    "plt.show()\n"
   ]
  },
  {
   "cell_type": "markdown",
   "metadata": {},
   "source": [
    "Now only picking the highest likelihood"
   ]
  },
  {
   "cell_type": "code",
   "execution_count": 8,
   "metadata": {},
   "outputs": [
    {
     "name": "stdout",
     "output_type": "stream",
     "text": [
      "ALL SPEAKER DATA | Viterbi\n",
      "Utterance: ['o', 'o', 'z', 'z', '1', '1', '2', '2', '3', '3', '4', '4', '5', '5', '6', '6', '7', '7', '8', '8', '9', '9', 'o', 'o', 'z', 'z', '1', '1', '2', '2', '3', '3', '4', '4', '5', '5', '6', '6', '7', '7', '8', '8', '9', '9']\n",
      "Best fit:  ['o', 'o', 'z', 'z', '1', '1', '2', '2', '3', '3', '4', '4', '5', '5', '6', '6', '7', '7', '8', '8', '9', '9', 'o', 'o', 'z', 'z', '1', '1', '2', '2', '3', '3', '4', '4', '5', '5', '6', '6', '7', '7', '8', '8', '9', '9']\n",
      "Score is:  1.0\n",
      "ONE SPEAKER DATA | Viterbi\n",
      "Utterance: ['o', 'o', 'z', 'z', '1', '1', '2', '2', '3', '3', '4', '4', '5', '5', '6', '6', '7', '7', '8', '8', '9', '9', 'o', 'o', 'z', 'z', '1', '1', '2', '2', '3', '3', '4', '4', '5', '5', '6', '6', '7', '7', '8', '8', '9', '9']\n",
      "Best fit:  ['o', 'o', 'z', 'z', '3', '9', '3', '2', '3', '3', '4', '4', '3', '3', '6', '6', '3', '3', '3', '3', '9', 'z', 'o', 'o', 'z', 'z', '1', '1', '2', '2', '3', '3', '4', '4', '5', '5', '6', '6', '7', '7', '8', '8', '9', '9']\n",
      "Score is:  0.7727272727272727\n"
     ]
    }
   ],
   "source": [
    "v_best_fit_list_all = proto.pickbestfit(v_score_matrix_all,v_word_list_all)\n",
    "\n",
    "print(\"ALL SPEAKER DATA | Viterbi\")\n",
    "print(\"Utterance:\",v_digit_list_all)\n",
    "print(\"Best fit: \",v_best_fit_list_all)\n",
    "print(\"Score is: \", proto.percentCorrect(v_digit_list_all,v_best_fit_list_all))\n",
    "\n",
    "v_best_fit_list_fem = proto.pickbestfit(v_score_matrix_fem,v_word_list_fem)\n",
    "\n",
    "print(\"ONE SPEAKER DATA | Viterbi\")\n",
    "print(\"Utterance:\",v_digit_list_fem)\n",
    "print(\"Best fit: \",v_best_fit_list_fem)\n",
    "print(\"Score is: \", proto.percentCorrect(v_digit_list_fem,v_best_fit_list_fem))"
   ]
  },
  {
   "cell_type": "markdown",
   "metadata": {},
   "source": [
    "Comparing mistake for only female speaker comparing Forward and Viterbi"
   ]
  },
  {
   "cell_type": "code",
   "execution_count": 9,
   "metadata": {},
   "outputs": [
    {
     "name": "stdout",
     "output_type": "stream",
     "text": [
      "ONE SPEAKER DATA | Forward\n",
      "Utterance: ['o', 'o', 'z', 'z', '1', '1', '2', '2', '3', '3', '4', '4', '5', '5', '6', '6', '7', '7', '8', '8', '9', '9', 'o', 'o', 'z', 'z', '1', '1', '2', '2', '3', '3', '4', '4', '5', '5', '6', '6', '7', '7', '8', '8', '9', '9']\n",
      "Best fit:  ['o', 'o', 'z', 'z', '3', '9', '3', '2', '3', '3', '4', '4', '3', '3', '6', '6', '3', '3', '3', '3', '9', 'z', 'o', 'o', 'z', 'z', '1', '1', '2', '2', '3', '3', '4', '4', '5', '5', '6', '6', '7', '7', '8', '8', '9', '9']\n",
      "Score is:  0.7727272727272727\n",
      "ONE SPEAKER DATA | Viterbi\n",
      "Utterance: ['o', 'o', 'z', 'z', '1', '1', '2', '2', '3', '3', '4', '4', '5', '5', '6', '6', '7', '7', '8', '8', '9', '9', 'o', 'o', 'z', 'z', '1', '1', '2', '2', '3', '3', '4', '4', '5', '5', '6', '6', '7', '7', '8', '8', '9', '9']\n",
      "Best fit:  ['o', 'o', 'z', 'z', '3', '9', '3', '2', '3', '3', '4', '4', '3', '3', '6', '6', '3', '3', '3', '3', '9', 'z', 'o', 'o', 'z', 'z', '1', '1', '2', '2', '3', '3', '4', '4', '5', '5', '6', '6', '7', '7', '8', '8', '9', '9']\n",
      "Score is:  0.7727272727272727\n"
     ]
    }
   ],
   "source": [
    "print(\"ONE SPEAKER DATA | Forward\")\n",
    "print(\"Utterance:\",digit_list_fem)\n",
    "print(\"Best fit: \",best_fit_list_fem)\n",
    "print(\"Score is: \", proto.percentCorrect(digit_list_fem,best_fit_list_fem))\n",
    "\n",
    "print(\"ONE SPEAKER DATA | Viterbi\")\n",
    "print(\"Utterance:\",v_digit_list_fem)\n",
    "print(\"Best fit: \",v_best_fit_list_fem)\n",
    "print(\"Score is: \", proto.percentCorrect(v_digit_list_fem,v_best_fit_list_fem))"
   ]
  },
  {
   "cell_type": "markdown",
   "metadata": {},
   "source": [
    "This shows that the mistakes are the same, no matter if using Viterbi or Forward. But we do see that Forward contains one mistake even when using data from all speakers. "
   ]
  },
  {
   "cell_type": "markdown",
   "metadata": {},
   "source": [
    "# 5.4 Backward Algorithm "
   ]
  },
  {
   "cell_type": "code",
   "execution_count": 10,
   "metadata": {},
   "outputs": [],
   "source": [
    "logbeta = proto.backward(obsloglik,np.log(wordHMMs_fem['o'][\"startprob\"]),np.log(wordHMMs_fem['o'][\"transmat\"]))\n",
    "if not np.allclose(logbeta,example['logbeta']):\n",
    "        raise Exception(\"backward broken\")\n",
    "\n",
    "# loglik = proto.loglik(logalpha[-1,:])\n",
    "# if not np.allclose(loglik,example['loglik']):\n",
    "#         raise Exception(\"loglik broken\")"
   ]
  },
  {
   "cell_type": "markdown",
   "metadata": {},
   "source": [
    "# HMM Retraining (emission probability distributions)"
   ]
  },
  {
   "cell_type": "markdown",
   "metadata": {},
   "source": [
    "# 6.1 State posterior probabilities $\\textcolor{red}{!!!}$"
   ]
  },
  {
   "cell_type": "code",
   "execution_count": 11,
   "metadata": {},
   "outputs": [],
   "source": [
    "loggamma = proto.statePosteriors(logalpha,logbeta)\n",
    "\n",
    "if not np.allclose(loggamma,example['loggamma']):\n",
    "        raise Exception(\"statePosteriers broken\")"
   ]
  },
  {
   "cell_type": "markdown",
   "metadata": {},
   "source": [
    "# 6.2 Retraining the emission probability distributions"
   ]
  },
  {
   "cell_type": "code",
   "execution_count": 12,
   "metadata": {},
   "outputs": [
    {
     "name": "stdout",
     "output_type": "stream",
     "text": [
      "(86, 13) (86, 15)\n",
      "(15, 13) (15, 13)\n"
     ]
    },
    {
     "ename": "ValueError",
     "evalue": "operands could not be broadcast together with shapes (86,) (15,) ",
     "output_type": "error",
     "traceback": [
      "\u001b[0;31m---------------------------------------------------------------------------\u001b[0m",
      "\u001b[0;31mValueError\u001b[0m                                Traceback (most recent call last)",
      "\u001b[1;32m/Users/kurreman/Desktop/KTH/DT2119  Speech and Speaker Recognition/dt2119/DT2119_Speech/LAB2/KORAY_LAB2.ipynb Cell 28'\u001b[0m in \u001b[0;36m<cell line: 6>\u001b[0;34m()\u001b[0m\n\u001b[1;32m      <a href='vscode-notebook-cell:/Users/kurreman/Desktop/KTH/DT2119%20%20Speech%20and%20Speaker%20Recognition/dt2119/DT2119_Speech/LAB2/KORAY_LAB2.ipynb#ch0000028?line=2'>3</a>\u001b[0m logalpha, logbeta,loggamma \u001b[39m=\u001b[39m proto\u001b[39m.\u001b[39mgetlogAlphaBetaGamma(utterance,HMMmodel)\n\u001b[1;32m      <a href='vscode-notebook-cell:/Users/kurreman/Desktop/KTH/DT2119%20%20Speech%20and%20Speaker%20Recognition/dt2119/DT2119_Speech/LAB2/KORAY_LAB2.ipynb#ch0000028?line=3'>4</a>\u001b[0m loglik \u001b[39m=\u001b[39m proto\u001b[39m.\u001b[39mloglik(logalpha[\u001b[39m-\u001b[39m\u001b[39m1\u001b[39m,:])\n\u001b[0;32m----> <a href='vscode-notebook-cell:/Users/kurreman/Desktop/KTH/DT2119%20%20Speech%20and%20Speaker%20Recognition/dt2119/DT2119_Speech/LAB2/KORAY_LAB2.ipynb#ch0000028?line=5'>6</a>\u001b[0m new_means, new_covars \u001b[39m=\u001b[39m proto\u001b[39m.\u001b[39;49mupdateMeanAndVar(utterance[\u001b[39m\"\u001b[39;49m\u001b[39mlmfcc\u001b[39;49m\u001b[39m\"\u001b[39;49m],loggamma)\n",
      "File \u001b[0;32m~/Desktop/KTH/DT2119  Speech and Speaker Recognition/dt2119/DT2119_Speech/LAB2/lab2_proto.py:249\u001b[0m, in \u001b[0;36mupdateMeanAndVar\u001b[0;34m(X, log_gamma, varianceFloor)\u001b[0m\n\u001b[1;32m    <a href='file:///Users/kurreman/Desktop/KTH/DT2119%20%20Speech%20and%20Speaker%20Recognition/dt2119/DT2119_Speech/LAB2/lab2_proto.py?line=246'>247</a>\u001b[0m \u001b[39mfor\u001b[39;00m j \u001b[39min\u001b[39;00m \u001b[39mrange\u001b[39m(D):\n\u001b[1;32m    <a href='file:///Users/kurreman/Desktop/KTH/DT2119%20%20Speech%20and%20Speaker%20Recognition/dt2119/DT2119_Speech/LAB2/lab2_proto.py?line=247'>248</a>\u001b[0m     means[:,j] \u001b[39m=\u001b[39m np\u001b[39m.\u001b[39msum(np\u001b[39m.\u001b[39mmultiply(gamma[:,j],X[:,j]))\u001b[39m/\u001b[39mnp\u001b[39m.\u001b[39msum(gamma[:,j])\n\u001b[0;32m--> <a href='file:///Users/kurreman/Desktop/KTH/DT2119%20%20Speech%20and%20Speaker%20Recognition/dt2119/DT2119_Speech/LAB2/lab2_proto.py?line=248'>249</a>\u001b[0m     covars[:,j] \u001b[39m=\u001b[39m np\u001b[39m.\u001b[39msum(np\u001b[39m.\u001b[39mmultiply(gamma[:,j],np\u001b[39m.\u001b[39mmultiply(X[:,j]\u001b[39m-\u001b[39;49mmeans[:,j],(X[:,j]\u001b[39m-\u001b[39mmeans[:,j])\u001b[39m.\u001b[39mT)))\u001b[39m/\u001b[39mnp\u001b[39m.\u001b[39msum(gamma[:,j])\n\u001b[1;32m    <a href='file:///Users/kurreman/Desktop/KTH/DT2119%20%20Speech%20and%20Speaker%20Recognition/dt2119/DT2119_Speech/LAB2/lab2_proto.py?line=249'>250</a>\u001b[0m \u001b[39mreturn\u001b[39;00m means, covars\n",
      "\u001b[0;31mValueError\u001b[0m: operands could not be broadcast together with shapes (86,) (15,) "
     ]
    }
   ],
   "source": [
    "utterance = data[10]\n",
    "HMMmodel = wordHMMs_all[\"4\"]\n",
    "logalpha, logbeta,loggamma = proto.getlogAlphaBetaGamma(utterance,HMMmodel)\n",
    "loglik = proto.loglik(logalpha[-1,:])\n",
    "\n",
    "new_means, new_covars = proto.updateMeanAndVar(utterance[\"lmfcc\"],loggamma)\n",
    "\n",
    "# delta_loglik = np.inf\n",
    "# max_it = 20\n",
    "# loglik_tresh = 1\n",
    "# for i in range(max_it):\n",
    "#     if delta_loglik > loglik_tresh:\n",
    "#         #compute new logalpha, logbeta, loggamma\n",
    "#         #update means and variances | updateMeanAndVar(utterance[\"lmfcc\"],loggamma) | TODO: find out how the means and variances update with the loggamma \n",
    "#         #calc new_loglike \n",
    "#         #delta_loglik = new_loglike-old_loglike\n",
    "#         pass\n",
    "#     else:\n",
    "#         #print(\"termination at iteration:\", i)\n",
    "#         pass"
   ]
  }
 ],
 "metadata": {
  "interpreter": {
   "hash": "a514c0d81db33b21161385242a1f4ac0a18b69078936e84731e144b116c774a0"
  },
  "kernelspec": {
   "display_name": "Python 3.10.3 64-bit ('3.10.3')",
   "language": "python",
   "name": "python3"
  },
  "language_info": {
   "codemirror_mode": {
    "name": "ipython",
    "version": 3
   },
   "file_extension": ".py",
   "mimetype": "text/x-python",
   "name": "python",
   "nbconvert_exporter": "python",
   "pygments_lexer": "ipython3",
   "version": "3.10.3"
  },
  "orig_nbformat": 4
 },
 "nbformat": 4,
 "nbformat_minor": 2
}
