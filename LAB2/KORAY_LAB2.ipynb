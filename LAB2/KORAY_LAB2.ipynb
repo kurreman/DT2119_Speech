{
 "cells": [
  {
   "cell_type": "markdown",
   "metadata": {},
   "source": [
    "# Setup"
   ]
  },
  {
   "cell_type": "code",
   "execution_count": 9,
   "metadata": {},
   "outputs": [],
   "source": [
    "import numpy as np\n",
    "from prondict import getIsolated\n",
    "import lab2_proto as proto\n",
    "import lab2_tools as tools\n",
    "import matplotlib.pyplot as plt\n",
    "import warnings\n",
    "warnings.filterwarnings(\"ignore\", category=RuntimeWarning)\n",
    "from numpy import asarray, savetxt, loadtxt\n",
    "import pickle\n",
    "\n",
    "data = np.load('lab2_data.npz', allow_pickle=True)['data']\n",
    "\n",
    "example = np.load('lab2_example.npz', allow_pickle=True)['example'].item()\n",
    "phoneHMMs_fem = np.load('lab2_models_onespkr.npz', allow_pickle=True)['phoneHMMs'].item()\n",
    "phoneHMMs_all = np.load('lab2_models_all.npz', allow_pickle=True)['phoneHMMs'].item()\n",
    "\n",
    "isolated = getIsolated()\n",
    "\n",
    "wordHMMs_all = {}\n",
    "for key in isolated.keys():\n",
    "    wordHMMs_all[key] = proto.concatHMMs(phoneHMMs_all, isolated[key])\n",
    "\n",
    "wordHMMs_fem = {}\n",
    "for key in isolated.keys():\n",
    "    wordHMMs_fem[key] = proto.concatHMMs(phoneHMMs_fem, isolated[key])\n"
   ]
  },
  {
   "cell_type": "markdown",
   "metadata": {},
   "source": [
    "# 5.1 Gaussian emission probabilities"
   ]
  },
  {
   "cell_type": "code",
   "execution_count": 10,
   "metadata": {},
   "outputs": [
    {
     "data": {
      "image/png": "[encoded data removed]",
      "text/plain": [
       "<Figure size 432x288 with 1 Axes>"
      ]
     },
     "metadata": {
      "needs_background": "light"
     },
     "output_type": "display_data"
    }
   ],
   "source": [
    "#wordHMMs_fem = {}\n",
    "#wordHMMs_fem['o'] = proto.concatHMMs(phoneHMMs_fem, isolated['o'])\n",
    "obsloglik = tools.log_multivariate_normal_density_diag(example['lmfcc'],wordHMMs_fem['o'][\"means\"],wordHMMs_fem['o'][\"covars\"])\n",
    "\n",
    "if not np.allclose(obsloglik,example['obsloglik']):\n",
    "        raise Exception(\"obsloglik broken\")\n",
    "\n",
    "plt.pcolormesh(obsloglik.T)\n",
    "plt.title(\"o: log likelihood for different Gaussians vs time\")\n",
    "plt.show()"
   ]
  },
  {
   "cell_type": "markdown",
   "metadata": {},
   "source": [
    "One can clearly see that the absence of Guassian distribution 4-5 reveals the silence before the uttererance \"o\" is spoke. "
   ]
  },
  {
   "cell_type": "markdown",
   "metadata": {},
   "source": [
    "# 5.2 Forward Algorithm"
   ]
  },
  {
   "cell_type": "code",
   "execution_count": 11,
   "metadata": {},
   "outputs": [],
   "source": [
    "logalpha = proto.forward(obsloglik,np.log(wordHMMs_fem['o'][\"startprob\"]),np.log(wordHMMs_fem['o'][\"transmat\"]))\n",
    "if not np.allclose(logalpha,example['logalpha']):\n",
    "        raise Exception(\"forward broken\")\n",
    "\n",
    "loglik = proto.loglik(logalpha[-1,:])\n",
    "if not np.allclose(loglik,example['loglik']):\n",
    "        raise Exception(\"loglik broken\")"
   ]
  },
  {
   "cell_type": "markdown",
   "metadata": {},
   "source": [
    "Scoring whole data set with all words using forward algorithm"
   ]
  },
  {
   "cell_type": "code",
   "execution_count": 12,
   "metadata": {},
   "outputs": [
    {
     "name": "stdout",
     "output_type": "stream",
     "text": [
      "['o', 'z', '1', '2', '3', '4', '5', '6', '7', '8', '9'] ['o', 'o', 'z', 'z', '1', '1', '2', '2', '3', '3', '4', '4', '5', '5', '6', '6', '7', '7', '8', '8', '9', '9', 'o', 'o', 'z', 'z', '1', '1', '2', '2', '3', '3', '4', '4', '5', '5', '6', '6', '7', '7', '8', '8', '9', '9']\n"
     ]
    },
    {
     "data": {
      "image/png": "[encoded data removed]",
      "text/plain": [
       "<Figure size 432x288 with 1 Axes>"
      ]
     },
     "metadata": {
      "needs_background": "light"
     },
     "output_type": "display_data"
    },
    {
     "data": {
      "image/png": "[encoded data removed]",
      "text/plain": [
       "<Figure size 432x288 with 1 Axes>"
      ]
     },
     "metadata": {
      "needs_background": "light"
     },
     "output_type": "display_data"
    }
   ],
   "source": [
    "#------------\n",
    "# score_table_all = proto.score_data(data,wordHMMs_all)\n",
    "# score_table_fem = proto.score_data(data,wordHMMs_fem)\n",
    "\n",
    "# pickle.dump(score_table_all, open( \"score_table_all.p\", \"wb\" ) )\n",
    "# pickle.dump(score_table_fem, open( \"score_table_fem.p\", \"wb\" ) )\n",
    "#-------\n",
    "score_table_all = pickle.load( open( \"score_table_all.p\", \"rb\" ) )\n",
    "score_table_fem = pickle.load( open( \"score_table_fem.p\", \"rb\" ) )\n",
    "\n",
    "score_matrix_all, word_list_all, digit_list_all = proto.table2matrix(score_table_all)\n",
    "score_matrix_fem, word_list_fem, digit_list_fem = proto.table2matrix(score_table_fem)\n",
    "print(word_list_all,digit_list_all)\n",
    "plt.pcolormesh(score_matrix_all)\n",
    "#plt.title()\n",
    "plt.show()\n",
    "\n",
    "plt.pcolormesh(score_matrix_fem)\n",
    "#plt.title()\n",
    "plt.show()\n",
    "\n"
   ]
  }
 ],
 "metadata": {
  "interpreter": {
   "hash": "a514c0d81db33b21161385242a1f4ac0a18b69078936e84731e144b116c774a0"
  },
  "kernelspec": {
   "display_name": "Python 3.10.3 64-bit ('3.10.3')",
   "language": "python",
   "name": "python3"
  },
  "language_info": {
   "codemirror_mode": {
    "name": "ipython",
    "version": 3
   },
   "file_extension": ".py",
   "mimetype": "text/x-python",
   "name": "python",
   "nbconvert_exporter": "python",
   "pygments_lexer": "ipython3",
   "version": "3.10.3"
  },
  "orig_nbformat": 4
 },
 "nbformat": 4,
 "nbformat_minor": 2
}
